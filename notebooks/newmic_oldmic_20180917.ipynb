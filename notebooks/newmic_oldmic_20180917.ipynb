{
 "cells": [
  {
   "cell_type": "code",
   "execution_count": 1,
   "metadata": {},
   "outputs": [],
   "source": [
    "import pandas as pd\n",
    "import datetime as dt\n",
    "import numpy as np\n",
    "import sys, os\n",
    "import datetime\n",
    "%load_ext autoreload\n",
    "%autoreload 2\n",
    "\n",
    "# data path, constants, etc.\n",
    "import sys\n",
    "datapath = '/Users/nhamilto/Documents/ATom/data/20180913_mictest/'\n",
    "sys.path.append(datapath)\n",
    "\n",
    "# plot things\n",
    "import matplotlib.pyplot as plt\n",
    "plt.style.use('seaborn-deep')\n",
    "\n",
    "# Acoustic tomography functions\n",
    "import ATom.atom_functions as atom"
   ]
  },
  {
   "cell_type": "code",
   "execution_count": 2,
   "metadata": {},
   "outputs": [],
   "source": [
    "oldfileindex = pd.read_csv(datapath+'old_mic_file_index_20181209.txt', delim_whitespace=True, skiprows=3)\n",
    "newfileindex = pd.read_csv(datapath+'new_mic_file_index_20181209.txt', delim_whitespace=True, skiprows=3)"
   ]
  },
  {
   "cell_type": "markdown",
   "metadata": {},
   "source": [
    "### load atom dataset object for meta data"
   ]
  },
  {
   "cell_type": "code",
   "execution_count": 3,
   "metadata": {},
   "outputs": [],
   "source": [
    "adat = atom.dataset('/Users/nhamilto/Documents/ATom/data/20180913_Data_collection/')"
   ]
  },
  {
   "cell_type": "code",
   "execution_count": 131,
   "metadata": {},
   "outputs": [],
   "source": [
    "# column names in each data file\n",
    "cols = ['S{}'.format(x) for x in range(8)] + ['M{}'.format(x) for x in range(8)]\n",
    "# instantiate characterization data structure\n",
    "chardata = pd.DataFrame()\n",
    "\n",
    "# read in data from Mic 1\n",
    "for ii in range(len(oldfileindex)):\n",
    "    timestamp = oldfileindex['Filename/Timestamp'].iloc[ii].split('_')[0]\n",
    "    fload = datapath + timestamp + '_AcouTomMainData' + '.txt'\n",
    "    testdat = pd.read_csv(fload, skiprows=4, delim_whitespace=True, names=cols, usecols=['M0'])\n",
    "    chardata[str(oldfileindex['OffsetAngle'].iloc[ii])] = testdat['M0'].values\n",
    "    # grab some speaker data as well. It should be identical for every record, so only get one.\n",
    "    if ii==0:\n",
    "        speakerdat = pd.read_csv(fload, skiprows=4, delim_whitespace=True, names=cols, usecols=['S0'])\n",
    "        speakerdat.set_index(pd.TimedeltaIndex(freq='50U', start=0, periods=len(speakerdat.index)), inplace=True)\n",
    "        \n",
    "# set index to be time delta from the beginning of each recording\n",
    "chardata.set_index(pd.TimedeltaIndex(freq='50U', start=0, periods=len(chardata.index)), inplace=True)"
   ]
  },
  {
   "cell_type": "code",
   "execution_count": 132,
   "metadata": {},
   "outputs": [],
   "source": [
    "old_mic_data = chardata.copy()"
   ]
  },
  {
   "cell_type": "code",
   "execution_count": 5,
   "metadata": {},
   "outputs": [],
   "source": [
    "# calculate the number of frames within the file\n",
    "nframe = int(len(speakerdat) / 10000)\n",
    "frameindex = [\n",
    "    speakerdat.index[0] + ii * pd.Timedelta(value=0.5, unit='s')\n",
    "    for ii in range(nframe)\n",
    "]\n",
    "# add frame number as a series\n",
    "framedata = ['frame {}'.format(ii) for ii in range(nframe)]\n",
    "frameseries = pd.Series(data=framedata, index=frameindex)\n",
    "speakerdat['frame'] = frameseries\n",
    "speakerdat['frame'].ffill(inplace=True)\n",
    "\n",
    "# reindex by both the frame number and the time index\n",
    "speakerdat.set_index(['frame', speakerdat.index], inplace=True)"
   ]
  },
  {
   "cell_type": "code",
   "execution_count": 6,
   "metadata": {},
   "outputs": [],
   "source": [
    "# calculate the number of frames within the file\n",
    "nframe = int(len(chardata) / 10000)\n",
    "frameindex = [\n",
    "    chardata.index[0] + ii * pd.Timedelta(value=0.5, unit='s')\n",
    "    for ii in range(nframe)\n",
    "]\n",
    "# add frame number as a series\n",
    "framedata = ['frame {}'.format(ii) for ii in range(nframe)]\n",
    "frameseries = pd.Series(data=framedata, index=frameindex)\n",
    "chardata['frame'] = frameseries\n",
    "chardata['frame'].ffill(inplace=True)\n",
    "\n",
    "# reindex by both the frame number and the time index\n",
    "chardata.set_index(['frame', chardata.index], inplace=True)"
   ]
  },
  {
   "cell_type": "markdown",
   "metadata": {},
   "source": [
    "### extract a single speaker chirp"
   ]
  },
  {
   "cell_type": "code",
   "execution_count": 7,
   "metadata": {},
   "outputs": [],
   "source": [
    "# single frame\n",
    "speakersamp = speakerdat.xs('frame 0', level=0)\n",
    "# constant parameters\n",
    "chirp_record_length = adat.meta.chirp_record_length # samples within the chirp\n",
    "upsamplefactor = 10\n",
    "samplefreq = adat.meta.main_sampling_freq\n",
    "searchLag = 3 * chirp_record_length * upsamplefactor\n",
    "# upsample \n",
    "speakersamp = atom.upsample(speakersamp, upsamplefactor)\n",
    "speakerstartindex = np.array([np.squeeze(speakersamp.values.round(5)).nonzero()[0][0]]) # atom.get_speaker_signal_delay(speakersamp) \n",
    "\n",
    "speakersigs = atom.signalOnSpeaker(speakersamp, searchLag, chirp_record_length*upsamplefactor, speakerstartindex)\n"
   ]
  },
  {
   "cell_type": "markdown",
   "metadata": {},
   "source": [
    "### Extract mic signals\n",
    "\n"
   ]
  },
  {
   "cell_type": "code",
   "execution_count": 8,
   "metadata": {},
   "outputs": [],
   "source": [
    "# load aux data to get speed of sound\n",
    "timestamp = oldfileindex['Filename/Timestamp'].iloc[0].split('_')[0]\n",
    "fload = datapath + timestamp + '_AcouTomAuxData' + '.txt'\n",
    "cols = ['vx','vy','vz','c','T','H']\n",
    "auxdat = pd.read_csv(fload, skiprows=4, names=cols, delim_whitespace=True, usecols=['c'])\n",
    "c0 = auxdat.values.mean()\n",
    "signalETAs = np.array([2 / c0])\n",
    "\n",
    "etaindex = (signalETAs * samplefreq * upsamplefactor).round() + speakerstartindex \n",
    "etaindex = etaindex[:].repeat(len(chardata.columns))"
   ]
  },
  {
   "cell_type": "code",
   "execution_count": 9,
   "metadata": {},
   "outputs": [],
   "source": [
    "tr = np.zeros((len(chardata.columns), nframe))\n",
    "alpha = tr.copy()\n",
    "sortedcols = [str(int(x*10)) for x in range(-10,11)]\n",
    "\n",
    "for fi in range(nframe):\n",
    "    micsamp = chardata.xs('frame {}'.format(fi), level=0)\n",
    "    micsamp = atom.freq_filter(micsamp, adat.meta.filter_freq_inds)\n",
    "    micsamp = atom.upsample(micsamp, upsamplefactor)\n",
    "\n",
    "    micsamp = micsamp.reindex(sortedcols, axis=1)\n",
    "    start = int(etaindex[0] - (searchLag)/2)\n",
    "    for ic, col in enumerate(micsamp.columns):\n",
    "        temp = micsamp[col].iloc[start:start + searchLag]\n",
    "        covar = np.correlate(temp, np.squeeze(speakersigs.values), mode='same')\n",
    "        alpha[ic,fi] = int(col) \n",
    "        tr[ic,fi] = np.argmax(covar) - searchLag/2\n",
    "\n",
    "tr = tr.astype(int)"
   ]
  },
  {
   "cell_type": "code",
   "execution_count": 10,
   "metadata": {},
   "outputs": [
    {
     "data": {
      "image/png": "[encoded data removed]",
      "text/plain": [
       "<matplotlib.figure.Figure at 0x10be7c7f0>"
      ]
     },
     "metadata": {},
     "output_type": "display_data"
    }
   ],
   "source": [
    "scat = plt.plot(alpha, tr, 'o')"
   ]
  },
  {
   "cell_type": "code",
   "execution_count": 12,
   "metadata": {},
   "outputs": [],
   "source": [
    "today = datetime.date.today().strftime('%Y%m%d')\n",
    "savefile = os.path.join(datapath,today+'_oldmicdata.csv')\n",
    "np.savetxt(savefile, tr.T)"
   ]
  },
  {
   "cell_type": "markdown",
   "metadata": {},
   "source": [
    "# Data from new microphone"
   ]
  },
  {
   "cell_type": "code",
   "execution_count": 133,
   "metadata": {},
   "outputs": [],
   "source": [
    "# column names in each data file\n",
    "cols = ['S{}'.format(x) for x in range(8)] + ['M{}'.format(x) for x in range(8)]\n",
    "# instantiate characterization data structure\n",
    "chardata = pd.DataFrame()\n",
    "catdat = pd.DataFrame()\n",
    "\n",
    "# read in data from Mic 1\n",
    "for ii in range(len(newfileindex)):\n",
    "    timestamp = newfileindex['Filename/Timestamp'].iloc[ii].split('_')[0]\n",
    "    fload = datapath + timestamp + '_AcouTomMainData' + '.txt'\n",
    "    testdat = pd.read_csv(fload, skiprows=4, delim_whitespace=True, names=cols, usecols=['M0'])\n",
    "    newcol = str(newfileindex['OffsetAngle'].iloc[ii]) + '_' + str(ii%3)\n",
    "    catdat = pd.concat([catdat, testdat.iloc[0:1200000]], ignore_index=True, axis=0) \n",
    "    if ii%3 == 2:\n",
    "        if ii==2:\n",
    "            chardata = catdat\n",
    "        chardata[str(newfileindex['OffsetAngle'].iloc[ii])] = catdat\n",
    "        del catdat\n",
    "        catdat = pd.DataFrame()\n",
    "    # grab some speaker data as well. It should be identical for every record, so only get one.\n",
    "    if ii==0:\n",
    "        speakerdat = pd.read_csv(fload, skiprows=4, delim_whitespace=True, names=cols, usecols=['S0'])\n",
    "        speakerdat.set_index(pd.TimedeltaIndex(freq='50U', start=0, periods=len(speakerdat.index)), inplace=True)\n",
    "        \n",
    "# set index to be time delta from the beginning of each recording\n",
    "chardata.drop('M0', axis=1, inplace=True)\n",
    "chardata.set_index(pd.TimedeltaIndex(freq='50U', start=0, periods=len(chardata.index)), inplace=True)"
   ]
  },
  {
   "cell_type": "code",
   "execution_count": 134,
   "metadata": {},
   "outputs": [],
   "source": [
    "new_mic_data = chardata.copy()"
   ]
  },
  {
   "cell_type": "code",
   "execution_count": 14,
   "metadata": {},
   "outputs": [],
   "source": [
    "# calculate the number of frames within the file\n",
    "nframe = int(len(chardata) / 10000)\n",
    "frameindex = [\n",
    "    chardata.index[0] + ii * pd.Timedelta(value=0.5, unit='s')\n",
    "    for ii in range(nframe)\n",
    "]\n",
    "# add frame number as a series\n",
    "framedata = ['frame {}'.format(ii) for ii in range(nframe)]\n",
    "frameseries = pd.Series(data=framedata, index=frameindex)\n",
    "chardata['frame'] = frameseries\n",
    "chardata['frame'].ffill(inplace=True)\n",
    "\n",
    "# reindex by both the frame number and the time index\n",
    "chardata.set_index(['frame', chardata.index], inplace=True)\n",
    "\n",
    "framelength = len(chardata.xs('frame 0', level=0))"
   ]
  },
  {
   "cell_type": "code",
   "execution_count": 15,
   "metadata": {},
   "outputs": [],
   "source": [
    "# single frame\n",
    "speakersamp = speakerdat.iloc[0:framelength]\n",
    "# constant parameters\n",
    "chirp_record_length = adat.meta.chirp_record_length # samples within the chirp\n",
    "upsamplefactor = 10\n",
    "samplefreq = adat.meta.main_sampling_freq\n",
    "searchLag = 3 * chirp_record_length * upsamplefactor\n",
    "# upsample \n",
    "speakersamp = atom.upsample(speakersamp, upsamplefactor)\n",
    "speakerstartindex = np.array([np.squeeze(speakersamp.values.round(5)).nonzero()[0][0]]) # atom.get_speaker_signal_delay(speakersamp) \n",
    "\n",
    "speakersigs = atom.signalOnSpeaker(speakersamp, searchLag, chirp_record_length*upsamplefactor, speakerstartindex)\n"
   ]
  },
  {
   "cell_type": "code",
   "execution_count": 16,
   "metadata": {},
   "outputs": [],
   "source": [
    "# load aux data to get speed of sound\n",
    "timestamp = oldfileindex['Filename/Timestamp'].iloc[0].split('_')[0]\n",
    "fload = datapath + timestamp + '_AcouTomAuxData' + '.txt'\n",
    "cols = ['vx','vy','vz','c','T','H']\n",
    "auxdat = pd.read_csv(fload, skiprows=4, names=cols, delim_whitespace=True, usecols=['c'])\n",
    "c0 = auxdat.values.mean()\n",
    "signalETAs = np.array([2 / c0])\n",
    "\n",
    "etaindex = (signalETAs * samplefreq * upsamplefactor).round() + speakerstartindex \n",
    "etaindex = etaindex[:].repeat(len(micsamp.columns))"
   ]
  },
  {
   "cell_type": "code",
   "execution_count": 17,
   "metadata": {},
   "outputs": [],
   "source": [
    "tr = np.zeros((len(micsamp.columns), nframe))\n",
    "alpha = tr.copy()\n",
    "sortedcols = [str(int(x*10)) for x in range(-10,11)]\n",
    "\n",
    "for fi in range(nframe):\n",
    "    micsamp = chardata.xs('frame {}'.format(fi), level=0)\n",
    "    micsamp = atom.freq_filter(micsamp, adat.meta.filter_freq_inds)\n",
    "    micsamp = atom.upsample(micsamp, upsamplefactor)\n",
    "\n",
    "    micsamp = micsamp.reindex(sortedcols, axis=1)\n",
    "    start = int(etaindex[0] - (searchLag)/2)\n",
    "    for ic, col in enumerate(micsamp.columns):\n",
    "        temp = micsamp[col].iloc[start:start + searchLag]\n",
    "        covar = np.correlate(temp, np.squeeze(speakersigs.values), mode='same')\n",
    "        alpha[ic,fi] = int(col) \n",
    "        tr[ic,fi] = np.argmax(covar) - searchLag/2\n",
    "\n",
    "tr = tr.astype(int)"
   ]
  },
  {
   "cell_type": "code",
   "execution_count": 18,
   "metadata": {},
   "outputs": [
    {
     "data": {
      "image/png": "[encoded data removed]",
      "text/plain": [
       "<matplotlib.figure.Figure at 0x10cab3128>"
      ]
     },
     "metadata": {},
     "output_type": "display_data"
    }
   ],
   "source": [
    "scat = plt.plot(alpha, tr, 'o')"
   ]
  },
  {
   "cell_type": "code",
   "execution_count": 18,
   "metadata": {},
   "outputs": [],
   "source": [
    "today = datetime.date.today().strftime('%Y%m%d')\n",
    "savefile = os.path.join(datapath,today+'_newmicdata.csv')\n",
    "np.savetxt(savefile, tr.T)"
   ]
  },
  {
   "cell_type": "code",
   "execution_count": 19,
   "metadata": {},
   "outputs": [],
   "source": [
    "newdat = pd.DataFrame(data = tr.T, columns=[str(x) for x in alpha[:,0]])"
   ]
  },
  {
   "cell_type": "code",
   "execution_count": 20,
   "metadata": {},
   "outputs": [
    {
     "data": {
      "text/html": [
       "<div>\n",
       "<style scoped>\n",
       "    .dataframe tbody tr th:only-of-type {\n",
       "        vertical-align: middle;\n",
       "    }\n",
       "\n",
       "    .dataframe tbody tr th {\n",
       "        vertical-align: top;\n",
       "    }\n",
       "\n",
       "    .dataframe thead th {\n",
       "        text-align: right;\n",
       "    }\n",
       "</style>\n",
       "<table border=\"1\" class=\"dataframe\">\n",
       "  <thead>\n",
       "    <tr style=\"text-align: right;\">\n",
       "      <th></th>\n",
       "      <th>-100.0</th>\n",
       "      <th>-90.0</th>\n",
       "      <th>-80.0</th>\n",
       "      <th>-70.0</th>\n",
       "      <th>-60.0</th>\n",
       "      <th>-50.0</th>\n",
       "      <th>-40.0</th>\n",
       "      <th>-30.0</th>\n",
       "      <th>-20.0</th>\n",
       "      <th>-10.0</th>\n",
       "      <th>...</th>\n",
       "      <th>10.0</th>\n",
       "      <th>20.0</th>\n",
       "      <th>30.0</th>\n",
       "      <th>40.0</th>\n",
       "      <th>50.0</th>\n",
       "      <th>60.0</th>\n",
       "      <th>70.0</th>\n",
       "      <th>80.0</th>\n",
       "      <th>90.0</th>\n",
       "      <th>100.0</th>\n",
       "    </tr>\n",
       "  </thead>\n",
       "  <tbody>\n",
       "    <tr>\n",
       "      <th>count</th>\n",
       "      <td>360.000000</td>\n",
       "      <td>360.000000</td>\n",
       "      <td>360.000000</td>\n",
       "      <td>360.000000</td>\n",
       "      <td>360.000000</td>\n",
       "      <td>360.000000</td>\n",
       "      <td>360.000000</td>\n",
       "      <td>360.000000</td>\n",
       "      <td>360.000000</td>\n",
       "      <td>360.000000</td>\n",
       "      <td>...</td>\n",
       "      <td>360.000000</td>\n",
       "      <td>360.000000</td>\n",
       "      <td>360.000000</td>\n",
       "      <td>360.000000</td>\n",
       "      <td>360.000000</td>\n",
       "      <td>360.000000</td>\n",
       "      <td>360.000000</td>\n",
       "      <td>360.000000</td>\n",
       "      <td>360.000000</td>\n",
       "      <td>360.000000</td>\n",
       "    </tr>\n",
       "    <tr>\n",
       "      <th>mean</th>\n",
       "      <td>694.455556</td>\n",
       "      <td>697.902778</td>\n",
       "      <td>696.725000</td>\n",
       "      <td>691.919444</td>\n",
       "      <td>696.983333</td>\n",
       "      <td>710.844444</td>\n",
       "      <td>700.505556</td>\n",
       "      <td>715.136111</td>\n",
       "      <td>729.683333</td>\n",
       "      <td>728.344444</td>\n",
       "      <td>...</td>\n",
       "      <td>723.722222</td>\n",
       "      <td>723.702778</td>\n",
       "      <td>719.497222</td>\n",
       "      <td>708.888889</td>\n",
       "      <td>700.394444</td>\n",
       "      <td>699.919444</td>\n",
       "      <td>695.352778</td>\n",
       "      <td>848.177778</td>\n",
       "      <td>696.500000</td>\n",
       "      <td>697.269444</td>\n",
       "    </tr>\n",
       "    <tr>\n",
       "      <th>std</th>\n",
       "      <td>2.076053</td>\n",
       "      <td>2.329176</td>\n",
       "      <td>1.795828</td>\n",
       "      <td>1.681179</td>\n",
       "      <td>1.266562</td>\n",
       "      <td>2.879806</td>\n",
       "      <td>2.541022</td>\n",
       "      <td>1.506098</td>\n",
       "      <td>2.335329</td>\n",
       "      <td>2.489694</td>\n",
       "      <td>...</td>\n",
       "      <td>1.805456</td>\n",
       "      <td>2.132908</td>\n",
       "      <td>2.596332</td>\n",
       "      <td>2.628087</td>\n",
       "      <td>2.528935</td>\n",
       "      <td>3.142247</td>\n",
       "      <td>2.353328</td>\n",
       "      <td>28.524369</td>\n",
       "      <td>1.981811</td>\n",
       "      <td>3.045095</td>\n",
       "    </tr>\n",
       "    <tr>\n",
       "      <th>min</th>\n",
       "      <td>689.000000</td>\n",
       "      <td>691.000000</td>\n",
       "      <td>691.000000</td>\n",
       "      <td>687.000000</td>\n",
       "      <td>693.000000</td>\n",
       "      <td>703.000000</td>\n",
       "      <td>694.000000</td>\n",
       "      <td>711.000000</td>\n",
       "      <td>722.000000</td>\n",
       "      <td>723.000000</td>\n",
       "      <td>...</td>\n",
       "      <td>718.000000</td>\n",
       "      <td>717.000000</td>\n",
       "      <td>713.000000</td>\n",
       "      <td>704.000000</td>\n",
       "      <td>693.000000</td>\n",
       "      <td>694.000000</td>\n",
       "      <td>688.000000</td>\n",
       "      <td>689.000000</td>\n",
       "      <td>692.000000</td>\n",
       "      <td>692.000000</td>\n",
       "    </tr>\n",
       "    <tr>\n",
       "      <th>25%</th>\n",
       "      <td>693.000000</td>\n",
       "      <td>696.000000</td>\n",
       "      <td>696.000000</td>\n",
       "      <td>691.000000</td>\n",
       "      <td>696.000000</td>\n",
       "      <td>709.000000</td>\n",
       "      <td>699.000000</td>\n",
       "      <td>714.000000</td>\n",
       "      <td>728.000000</td>\n",
       "      <td>726.000000</td>\n",
       "      <td>...</td>\n",
       "      <td>723.000000</td>\n",
       "      <td>722.000000</td>\n",
       "      <td>717.000000</td>\n",
       "      <td>707.000000</td>\n",
       "      <td>699.000000</td>\n",
       "      <td>698.000000</td>\n",
       "      <td>694.000000</td>\n",
       "      <td>852.000000</td>\n",
       "      <td>695.000000</td>\n",
       "      <td>695.000000</td>\n",
       "    </tr>\n",
       "    <tr>\n",
       "      <th>50%</th>\n",
       "      <td>695.000000</td>\n",
       "      <td>698.000000</td>\n",
       "      <td>697.000000</td>\n",
       "      <td>692.000000</td>\n",
       "      <td>697.000000</td>\n",
       "      <td>711.000000</td>\n",
       "      <td>700.000000</td>\n",
       "      <td>715.000000</td>\n",
       "      <td>729.500000</td>\n",
       "      <td>728.000000</td>\n",
       "      <td>...</td>\n",
       "      <td>724.000000</td>\n",
       "      <td>724.000000</td>\n",
       "      <td>720.000000</td>\n",
       "      <td>709.000000</td>\n",
       "      <td>700.000000</td>\n",
       "      <td>699.000000</td>\n",
       "      <td>695.000000</td>\n",
       "      <td>853.000000</td>\n",
       "      <td>697.000000</td>\n",
       "      <td>697.000000</td>\n",
       "    </tr>\n",
       "    <tr>\n",
       "      <th>75%</th>\n",
       "      <td>696.000000</td>\n",
       "      <td>699.250000</td>\n",
       "      <td>698.000000</td>\n",
       "      <td>693.000000</td>\n",
       "      <td>698.000000</td>\n",
       "      <td>713.000000</td>\n",
       "      <td>703.000000</td>\n",
       "      <td>716.000000</td>\n",
       "      <td>731.000000</td>\n",
       "      <td>730.000000</td>\n",
       "      <td>...</td>\n",
       "      <td>725.000000</td>\n",
       "      <td>725.000000</td>\n",
       "      <td>721.000000</td>\n",
       "      <td>710.000000</td>\n",
       "      <td>702.000000</td>\n",
       "      <td>702.000000</td>\n",
       "      <td>697.000000</td>\n",
       "      <td>855.000000</td>\n",
       "      <td>698.000000</td>\n",
       "      <td>699.000000</td>\n",
       "    </tr>\n",
       "    <tr>\n",
       "      <th>max</th>\n",
       "      <td>700.000000</td>\n",
       "      <td>703.000000</td>\n",
       "      <td>701.000000</td>\n",
       "      <td>696.000000</td>\n",
       "      <td>701.000000</td>\n",
       "      <td>716.000000</td>\n",
       "      <td>706.000000</td>\n",
       "      <td>719.000000</td>\n",
       "      <td>738.000000</td>\n",
       "      <td>736.000000</td>\n",
       "      <td>...</td>\n",
       "      <td>728.000000</td>\n",
       "      <td>729.000000</td>\n",
       "      <td>725.000000</td>\n",
       "      <td>717.000000</td>\n",
       "      <td>708.000000</td>\n",
       "      <td>709.000000</td>\n",
       "      <td>702.000000</td>\n",
       "      <td>859.000000</td>\n",
       "      <td>701.000000</td>\n",
       "      <td>705.000000</td>\n",
       "    </tr>\n",
       "  </tbody>\n",
       "</table>\n",
       "<p>8 rows × 21 columns</p>\n",
       "</div>"
      ],
      "text/plain": [
       "           -100.0       -90.0       -80.0       -70.0       -60.0       -50.0  \\\n",
       "count  360.000000  360.000000  360.000000  360.000000  360.000000  360.000000   \n",
       "mean   694.455556  697.902778  696.725000  691.919444  696.983333  710.844444   \n",
       "std      2.076053    2.329176    1.795828    1.681179    1.266562    2.879806   \n",
       "min    689.000000  691.000000  691.000000  687.000000  693.000000  703.000000   \n",
       "25%    693.000000  696.000000  696.000000  691.000000  696.000000  709.000000   \n",
       "50%    695.000000  698.000000  697.000000  692.000000  697.000000  711.000000   \n",
       "75%    696.000000  699.250000  698.000000  693.000000  698.000000  713.000000   \n",
       "max    700.000000  703.000000  701.000000  696.000000  701.000000  716.000000   \n",
       "\n",
       "            -40.0       -30.0       -20.0       -10.0     ...            10.0  \\\n",
       "count  360.000000  360.000000  360.000000  360.000000     ...      360.000000   \n",
       "mean   700.505556  715.136111  729.683333  728.344444     ...      723.722222   \n",
       "std      2.541022    1.506098    2.335329    2.489694     ...        1.805456   \n",
       "min    694.000000  711.000000  722.000000  723.000000     ...      718.000000   \n",
       "25%    699.000000  714.000000  728.000000  726.000000     ...      723.000000   \n",
       "50%    700.000000  715.000000  729.500000  728.000000     ...      724.000000   \n",
       "75%    703.000000  716.000000  731.000000  730.000000     ...      725.000000   \n",
       "max    706.000000  719.000000  738.000000  736.000000     ...      728.000000   \n",
       "\n",
       "             20.0        30.0        40.0        50.0        60.0        70.0  \\\n",
       "count  360.000000  360.000000  360.000000  360.000000  360.000000  360.000000   \n",
       "mean   723.702778  719.497222  708.888889  700.394444  699.919444  695.352778   \n",
       "std      2.132908    2.596332    2.628087    2.528935    3.142247    2.353328   \n",
       "min    717.000000  713.000000  704.000000  693.000000  694.000000  688.000000   \n",
       "25%    722.000000  717.000000  707.000000  699.000000  698.000000  694.000000   \n",
       "50%    724.000000  720.000000  709.000000  700.000000  699.000000  695.000000   \n",
       "75%    725.000000  721.000000  710.000000  702.000000  702.000000  697.000000   \n",
       "max    729.000000  725.000000  717.000000  708.000000  709.000000  702.000000   \n",
       "\n",
       "             80.0        90.0       100.0  \n",
       "count  360.000000  360.000000  360.000000  \n",
       "mean   848.177778  696.500000  697.269444  \n",
       "std     28.524369    1.981811    3.045095  \n",
       "min    689.000000  692.000000  692.000000  \n",
       "25%    852.000000  695.000000  695.000000  \n",
       "50%    853.000000  697.000000  697.000000  \n",
       "75%    855.000000  698.000000  699.000000  \n",
       "max    859.000000  701.000000  705.000000  \n",
       "\n",
       "[8 rows x 21 columns]"
      ]
     },
     "execution_count": 20,
     "metadata": {},
     "output_type": "execute_result"
    }
   ],
   "source": [
    "newdat.describe()"
   ]
  },
  {
   "cell_type": "code",
   "execution_count": null,
   "metadata": {},
   "outputs": [],
   "source": []
  },
  {
   "cell_type": "code",
   "execution_count": 23,
   "metadata": {},
   "outputs": [],
   "source": [
    "olddat = pd.read_csv(os.path.join(datapath,today+'_oldmicdata.csv'), delim_whitespace=True, names=[str(x) for x in alpha[:,0]])"
   ]
  },
  {
   "cell_type": "code",
   "execution_count": 24,
   "metadata": {},
   "outputs": [
    {
     "data": {
      "text/plain": [
       "(122, 21)"
      ]
     },
     "execution_count": 24,
     "metadata": {},
     "output_type": "execute_result"
    }
   ],
   "source": [
    "olddat.shape"
   ]
  },
  {
   "cell_type": "code",
   "execution_count": 25,
   "metadata": {},
   "outputs": [
    {
     "data": {
      "text/html": [
       "<div>\n",
       "<style scoped>\n",
       "    .dataframe tbody tr th:only-of-type {\n",
       "        vertical-align: middle;\n",
       "    }\n",
       "\n",
       "    .dataframe tbody tr th {\n",
       "        vertical-align: top;\n",
       "    }\n",
       "\n",
       "    .dataframe thead th {\n",
       "        text-align: right;\n",
       "    }\n",
       "</style>\n",
       "<table border=\"1\" class=\"dataframe\">\n",
       "  <thead>\n",
       "    <tr style=\"text-align: right;\">\n",
       "      <th></th>\n",
       "      <th>-100.0</th>\n",
       "      <th>-90.0</th>\n",
       "      <th>-80.0</th>\n",
       "      <th>-70.0</th>\n",
       "      <th>-60.0</th>\n",
       "      <th>-50.0</th>\n",
       "      <th>-40.0</th>\n",
       "      <th>-30.0</th>\n",
       "      <th>-20.0</th>\n",
       "      <th>-10.0</th>\n",
       "      <th>...</th>\n",
       "      <th>10.0</th>\n",
       "      <th>20.0</th>\n",
       "      <th>30.0</th>\n",
       "      <th>40.0</th>\n",
       "      <th>50.0</th>\n",
       "      <th>60.0</th>\n",
       "      <th>70.0</th>\n",
       "      <th>80.0</th>\n",
       "      <th>90.0</th>\n",
       "      <th>100.0</th>\n",
       "    </tr>\n",
       "  </thead>\n",
       "  <tbody>\n",
       "    <tr>\n",
       "      <th>count</th>\n",
       "      <td>122.000000</td>\n",
       "      <td>122.000000</td>\n",
       "      <td>122.000000</td>\n",
       "      <td>122.000000</td>\n",
       "      <td>122.000000</td>\n",
       "      <td>122.000000</td>\n",
       "      <td>122.000000</td>\n",
       "      <td>122.000000</td>\n",
       "      <td>122.000000</td>\n",
       "      <td>122.000000</td>\n",
       "      <td>...</td>\n",
       "      <td>122.000000</td>\n",
       "      <td>122.000000</td>\n",
       "      <td>122.00000</td>\n",
       "      <td>122.00000</td>\n",
       "      <td>122.000000</td>\n",
       "      <td>122.000000</td>\n",
       "      <td>122.000000</td>\n",
       "      <td>122.000000</td>\n",
       "      <td>122.000000</td>\n",
       "      <td>122.000000</td>\n",
       "    </tr>\n",
       "    <tr>\n",
       "      <th>mean</th>\n",
       "      <td>856.844262</td>\n",
       "      <td>850.631148</td>\n",
       "      <td>851.778689</td>\n",
       "      <td>856.000000</td>\n",
       "      <td>858.729508</td>\n",
       "      <td>866.565574</td>\n",
       "      <td>873.319672</td>\n",
       "      <td>885.131148</td>\n",
       "      <td>901.245902</td>\n",
       "      <td>896.918033</td>\n",
       "      <td>...</td>\n",
       "      <td>897.245902</td>\n",
       "      <td>901.270492</td>\n",
       "      <td>896.97541</td>\n",
       "      <td>890.02459</td>\n",
       "      <td>876.614754</td>\n",
       "      <td>870.729508</td>\n",
       "      <td>873.040984</td>\n",
       "      <td>870.516393</td>\n",
       "      <td>872.532787</td>\n",
       "      <td>878.204918</td>\n",
       "    </tr>\n",
       "    <tr>\n",
       "      <th>std</th>\n",
       "      <td>1.515869</td>\n",
       "      <td>1.306062</td>\n",
       "      <td>1.741626</td>\n",
       "      <td>2.143605</td>\n",
       "      <td>1.426067</td>\n",
       "      <td>1.605711</td>\n",
       "      <td>1.374300</td>\n",
       "      <td>1.232821</td>\n",
       "      <td>1.173477</td>\n",
       "      <td>1.751458</td>\n",
       "      <td>...</td>\n",
       "      <td>1.201318</td>\n",
       "      <td>1.876505</td>\n",
       "      <td>1.81574</td>\n",
       "      <td>13.93756</td>\n",
       "      <td>1.778878</td>\n",
       "      <td>1.863246</td>\n",
       "      <td>1.783290</td>\n",
       "      <td>2.697515</td>\n",
       "      <td>3.382464</td>\n",
       "      <td>1.884862</td>\n",
       "    </tr>\n",
       "    <tr>\n",
       "      <th>min</th>\n",
       "      <td>854.000000</td>\n",
       "      <td>846.000000</td>\n",
       "      <td>847.000000</td>\n",
       "      <td>851.000000</td>\n",
       "      <td>855.000000</td>\n",
       "      <td>863.000000</td>\n",
       "      <td>870.000000</td>\n",
       "      <td>882.000000</td>\n",
       "      <td>898.000000</td>\n",
       "      <td>893.000000</td>\n",
       "      <td>...</td>\n",
       "      <td>895.000000</td>\n",
       "      <td>897.000000</td>\n",
       "      <td>893.00000</td>\n",
       "      <td>740.00000</td>\n",
       "      <td>873.000000</td>\n",
       "      <td>866.000000</td>\n",
       "      <td>869.000000</td>\n",
       "      <td>866.000000</td>\n",
       "      <td>867.000000</td>\n",
       "      <td>874.000000</td>\n",
       "    </tr>\n",
       "    <tr>\n",
       "      <th>25%</th>\n",
       "      <td>855.000000</td>\n",
       "      <td>850.000000</td>\n",
       "      <td>851.000000</td>\n",
       "      <td>854.000000</td>\n",
       "      <td>858.000000</td>\n",
       "      <td>865.250000</td>\n",
       "      <td>873.000000</td>\n",
       "      <td>884.000000</td>\n",
       "      <td>901.000000</td>\n",
       "      <td>896.000000</td>\n",
       "      <td>...</td>\n",
       "      <td>897.000000</td>\n",
       "      <td>900.000000</td>\n",
       "      <td>895.00000</td>\n",
       "      <td>889.00000</td>\n",
       "      <td>875.000000</td>\n",
       "      <td>870.000000</td>\n",
       "      <td>872.000000</td>\n",
       "      <td>868.250000</td>\n",
       "      <td>870.000000</td>\n",
       "      <td>877.000000</td>\n",
       "    </tr>\n",
       "    <tr>\n",
       "      <th>50%</th>\n",
       "      <td>857.000000</td>\n",
       "      <td>850.000000</td>\n",
       "      <td>852.000000</td>\n",
       "      <td>856.000000</td>\n",
       "      <td>859.000000</td>\n",
       "      <td>867.000000</td>\n",
       "      <td>873.000000</td>\n",
       "      <td>885.000000</td>\n",
       "      <td>901.000000</td>\n",
       "      <td>897.000000</td>\n",
       "      <td>...</td>\n",
       "      <td>897.000000</td>\n",
       "      <td>901.000000</td>\n",
       "      <td>897.00000</td>\n",
       "      <td>891.00000</td>\n",
       "      <td>877.000000</td>\n",
       "      <td>871.000000</td>\n",
       "      <td>873.000000</td>\n",
       "      <td>870.000000</td>\n",
       "      <td>872.000000</td>\n",
       "      <td>878.000000</td>\n",
       "    </tr>\n",
       "    <tr>\n",
       "      <th>75%</th>\n",
       "      <td>858.000000</td>\n",
       "      <td>851.000000</td>\n",
       "      <td>853.000000</td>\n",
       "      <td>858.000000</td>\n",
       "      <td>859.000000</td>\n",
       "      <td>868.000000</td>\n",
       "      <td>874.000000</td>\n",
       "      <td>886.000000</td>\n",
       "      <td>902.000000</td>\n",
       "      <td>898.000000</td>\n",
       "      <td>...</td>\n",
       "      <td>898.000000</td>\n",
       "      <td>903.000000</td>\n",
       "      <td>898.00000</td>\n",
       "      <td>893.00000</td>\n",
       "      <td>878.000000</td>\n",
       "      <td>872.000000</td>\n",
       "      <td>874.000000</td>\n",
       "      <td>873.000000</td>\n",
       "      <td>875.000000</td>\n",
       "      <td>879.000000</td>\n",
       "    </tr>\n",
       "    <tr>\n",
       "      <th>max</th>\n",
       "      <td>859.000000</td>\n",
       "      <td>855.000000</td>\n",
       "      <td>856.000000</td>\n",
       "      <td>860.000000</td>\n",
       "      <td>862.000000</td>\n",
       "      <td>870.000000</td>\n",
       "      <td>876.000000</td>\n",
       "      <td>888.000000</td>\n",
       "      <td>903.000000</td>\n",
       "      <td>900.000000</td>\n",
       "      <td>...</td>\n",
       "      <td>901.000000</td>\n",
       "      <td>907.000000</td>\n",
       "      <td>901.00000</td>\n",
       "      <td>898.00000</td>\n",
       "      <td>882.000000</td>\n",
       "      <td>875.000000</td>\n",
       "      <td>877.000000</td>\n",
       "      <td>876.000000</td>\n",
       "      <td>882.000000</td>\n",
       "      <td>883.000000</td>\n",
       "    </tr>\n",
       "  </tbody>\n",
       "</table>\n",
       "<p>8 rows × 21 columns</p>\n",
       "</div>"
      ],
      "text/plain": [
       "           -100.0       -90.0       -80.0       -70.0       -60.0       -50.0  \\\n",
       "count  122.000000  122.000000  122.000000  122.000000  122.000000  122.000000   \n",
       "mean   856.844262  850.631148  851.778689  856.000000  858.729508  866.565574   \n",
       "std      1.515869    1.306062    1.741626    2.143605    1.426067    1.605711   \n",
       "min    854.000000  846.000000  847.000000  851.000000  855.000000  863.000000   \n",
       "25%    855.000000  850.000000  851.000000  854.000000  858.000000  865.250000   \n",
       "50%    857.000000  850.000000  852.000000  856.000000  859.000000  867.000000   \n",
       "75%    858.000000  851.000000  853.000000  858.000000  859.000000  868.000000   \n",
       "max    859.000000  855.000000  856.000000  860.000000  862.000000  870.000000   \n",
       "\n",
       "            -40.0       -30.0       -20.0       -10.0     ...            10.0  \\\n",
       "count  122.000000  122.000000  122.000000  122.000000     ...      122.000000   \n",
       "mean   873.319672  885.131148  901.245902  896.918033     ...      897.245902   \n",
       "std      1.374300    1.232821    1.173477    1.751458     ...        1.201318   \n",
       "min    870.000000  882.000000  898.000000  893.000000     ...      895.000000   \n",
       "25%    873.000000  884.000000  901.000000  896.000000     ...      897.000000   \n",
       "50%    873.000000  885.000000  901.000000  897.000000     ...      897.000000   \n",
       "75%    874.000000  886.000000  902.000000  898.000000     ...      898.000000   \n",
       "max    876.000000  888.000000  903.000000  900.000000     ...      901.000000   \n",
       "\n",
       "             20.0       30.0       40.0        50.0        60.0        70.0  \\\n",
       "count  122.000000  122.00000  122.00000  122.000000  122.000000  122.000000   \n",
       "mean   901.270492  896.97541  890.02459  876.614754  870.729508  873.040984   \n",
       "std      1.876505    1.81574   13.93756    1.778878    1.863246    1.783290   \n",
       "min    897.000000  893.00000  740.00000  873.000000  866.000000  869.000000   \n",
       "25%    900.000000  895.00000  889.00000  875.000000  870.000000  872.000000   \n",
       "50%    901.000000  897.00000  891.00000  877.000000  871.000000  873.000000   \n",
       "75%    903.000000  898.00000  893.00000  878.000000  872.000000  874.000000   \n",
       "max    907.000000  901.00000  898.00000  882.000000  875.000000  877.000000   \n",
       "\n",
       "             80.0        90.0       100.0  \n",
       "count  122.000000  122.000000  122.000000  \n",
       "mean   870.516393  872.532787  878.204918  \n",
       "std      2.697515    3.382464    1.884862  \n",
       "min    866.000000  867.000000  874.000000  \n",
       "25%    868.250000  870.000000  877.000000  \n",
       "50%    870.000000  872.000000  878.000000  \n",
       "75%    873.000000  875.000000  879.000000  \n",
       "max    876.000000  882.000000  883.000000  \n",
       "\n",
       "[8 rows x 21 columns]"
      ]
     },
     "execution_count": 25,
     "metadata": {},
     "output_type": "execute_result"
    }
   ],
   "source": [
    "olddat.describe()"
   ]
  },
  {
   "cell_type": "code",
   "execution_count": 27,
   "metadata": {},
   "outputs": [
    {
     "data": {
      "text/plain": [
       "<matplotlib.axes._subplots.AxesSubplot at 0x104bbfbe0>"
      ]
     },
     "execution_count": 27,
     "metadata": {},
     "output_type": "execute_result"
    },
    {
     "data": {
      "image/png": "[encoded data removed]",
      "text/plain": [
       "<matplotlib.figure.Figure at 0x111672f60>"
      ]
     },
     "metadata": {},
     "output_type": "display_data"
    }
   ],
   "source": [
    "olddat.mean().plot()"
   ]
  },
  {
   "cell_type": "code",
   "execution_count": 28,
   "metadata": {},
   "outputs": [
    {
     "data": {
      "text/plain": [
       "<matplotlib.axes._subplots.AxesSubplot at 0x11161e198>"
      ]
     },
     "execution_count": 28,
     "metadata": {},
     "output_type": "execute_result"
    },
    {
     "data": {
      "image/png": "[encoded data removed]",
      "text/plain": [
       "<matplotlib.figure.Figure at 0x10ca95438>"
      ]
     },
     "metadata": {},
     "output_type": "display_data"
    }
   ],
   "source": [
    "newdat.mean().plot()"
   ]
  },
  {
   "cell_type": "code",
   "execution_count": 97,
   "metadata": {},
   "outputs": [
    {
     "data": {
      "text/plain": [
       "Text(0,0.5,'Time delay [ms]')"
      ]
     },
     "execution_count": 97,
     "metadata": {},
     "output_type": "execute_result"
    },
    {
     "data": {
      "image/png": "[encoded data removed]",
      "text/plain": [
       "<matplotlib.figure.Figure at 0x126908978>"
      ]
     },
     "metadata": {},
     "output_type": "display_data"
    }
   ],
   "source": [
    "test = newdat.copy()\n",
    "test['80.0'] = np.NaN\n",
    "tstats = test.describe().T\n",
    "# tstats['mean'].plot(yerr=tstats['std'])\n",
    "\n",
    "fig, ax = plt.subplots(figsize=(5,3))\n",
    "ax.errorbar(np.array([x*10 for x in range(-10,11)]), tstats['mean'].values/(samplefreq*upsamplefactor), yerr=tstats['std']/(samplefreq*upsamplefactor))\n",
    "ax.set_xlabel('Azimuth Angle [$^\\circ$]')\n",
    "ax.set_ylabel('Time delay [ms]')"
   ]
  },
  {
   "cell_type": "code",
   "execution_count": 70,
   "metadata": {},
   "outputs": [],
   "source": []
  },
  {
   "cell_type": "code",
   "execution_count": 110,
   "metadata": {},
   "outputs": [
    {
     "data": {
      "text/plain": [
       "<matplotlib.legend.Legend at 0x11bc55c50>"
      ]
     },
     "execution_count": 110,
     "metadata": {},
     "output_type": "execute_result"
    },
    {
     "data": {
      "image/png": "[encoded data removed]",
      "text/plain": [
       "<matplotlib.figure.Figure at 0x11bfb6cc0>"
      ]
     },
     "metadata": {},
     "output_type": "display_data"
    }
   ],
   "source": [
    "newstats = newdat.copy()\n",
    "newstats['80.0'] = np.NaN\n",
    "newstats = newstats.describe().T\n",
    "newstats['mean'] -= newstats['mean'].min()\n",
    "\n",
    "oldstats = olddat.copy()\n",
    "mask = (oldstats < oldstats.quantile(q=0.01))\n",
    "oldstats[mask] = np.NaN\n",
    "oldstats = oldstats.describe().T\n",
    "oldstats['mean'] -= oldstats['mean'].min()\n",
    "\n",
    "fig, ax = plt.subplots(figsize=(5,3))\n",
    "ax.errorbar(np.array([x*10 for x in range(-10,11)]), oldstats['mean'].values/(samplefreq*upsamplefactor/1000), yerr=oldstats['std']/(samplefreq*upsamplefactor/1000))\n",
    "\n",
    "ax.errorbar(np.array([x*10 for x in range(-10,11)]), newstats['mean'].values/(samplefreq*upsamplefactor/1000), yerr=newstats['std']/(samplefreq*upsamplefactor/1000))\n",
    "ax.set_xlabel('Azimuth Angle [$^\\circ$]')\n",
    "ax.set_ylabel('Time delay [ms]')\n",
    "\n",
    "fig.legend(['old mic','new mic'])"
   ]
  },
  {
   "cell_type": "code",
   "execution_count": null,
   "metadata": {},
   "outputs": [],
   "source": []
  },
  {
   "cell_type": "code",
   "execution_count": 102,
   "metadata": {},
   "outputs": [],
   "source": [
    "from scipy import optimize\n",
    "\n",
    "def cosine_fit_func(x, a, b, c):\n",
    "    return a * np.cos(b * x)+c"
   ]
  },
  {
   "cell_type": "markdown",
   "metadata": {},
   "source": [
    "### Speaker characterization data\n",
    "signal latency at several fixed radial distances from the center of the speaker aperature as a function of azimuth angle"
   ]
  },
  {
   "cell_type": "code",
   "execution_count": 103,
   "metadata": {},
   "outputs": [],
   "source": [
    "colnames = ['azangle'] + [x for x in range(120)]\n",
    "speaker = pd.read_csv('../../data/speaker_char_raw_data_210818.csv', names=colnames, skiprows=1)\n",
    "\n",
    "speaker['azangle'].ffill(inplace=True)\n",
    "speaker = speaker.set_index('azangle').drop('4m', axis=0)\n",
    "speaker.set_index(pd.to_numeric(speaker.index), inplace=True)\n",
    "speaker['radius'] = np.concatenate(((2*np.ones(int(len(speaker.index)/2))).astype(int), (4*np.ones(int(len(speaker.index)/2+1))).astype(int)))\n",
    "speaker.reset_index(inplace=True)\n",
    "speaker.set_index(['radius','azangle'], inplace=True)\n"
   ]
  },
  {
   "cell_type": "markdown",
   "metadata": {},
   "source": [
    "- calculate mean offset time,\n",
    "- exclude outliers,\n",
    "- separate by radial distance, \n",
    "- subtract minimum value, "
   ]
  },
  {
   "cell_type": "code",
   "execution_count": 128,
   "metadata": {},
   "outputs": [],
   "source": [
    "# get mean values over 120 records\n",
    "meanoff = speaker.T.mean()\n",
    "\n",
    "# remove and replace obvious outliers\n",
    "meanoff.loc[2,[-40,40]] = np.nan\n",
    "meanoff.interpolate(inplace=True)\n",
    "meanoff.loc[4,[-100]] = np.nan\n",
    "meanoff.bfill(inplace=True)\n",
    "\n",
    "# extract data for radial distance = 2 m\n",
    "rad2 = meanoff.xs(2, level=0) - meanoff.xs(2, level=0).min()\n",
    "rad2 = rad2.reset_index()\n",
    "rad2.columns = ['azangle', 'offset']\n",
    "\n",
    "# extract data for radial distance = 4 m\n",
    "rad4 = meanoff.xs(4, level=0) - meanoff.xs(4, level=0).min()\n",
    "rad4 = rad4.reset_index()\n",
    "rad4.columns = ['azangle', 'offset']\n",
    "\n",
    "# fit cosine curve to data\n",
    "rad2params, params_covariance = optimize.curve_fit(cosine_fit_func, np.radians(rad2['azangle']), rad2['offset'], p0=[0.15, 2, 0.15])\n",
    "rad4params, params_covariance = optimize.curve_fit(cosine_fit_func, np.radians(rad4['azangle']), rad4['offset'], p0=[0.15, 2, 0.15])\n",
    "\n",
    "rad2fit = cosine_fit_func(np.radians(rad2['azangle']), rad2params[0], rad2params[1], rad2params[2])\n",
    "rad4fit = cosine_fit_func(np.radians(rad4['azangle']), rad4params[0], rad4params[1], rad4params[2])"
   ]
  },
  {
   "cell_type": "code",
   "execution_count": 125,
   "metadata": {},
   "outputs": [
    {
     "data": {
      "image/png": "[encoded data removed]",
      "text/plain": [
       "<matplotlib.figure.Figure at 0x11bfd6278>"
      ]
     },
     "metadata": {},
     "output_type": "display_data"
    }
   ],
   "source": [
    "fig, ax = plt.subplots(figsize=(5,3))\n",
    "ax.scatter(np.radians(rad2['azangle']), rad2['offset'], label='r=2 Data')\n",
    "ax.plot(np.radians(rad2['azangle']), rad2fit,\n",
    "         label='r=2 Fit function')\n",
    "\n",
    "ax.scatter(np.radians(rad4['azangle']), rad4['offset'], label='r=4 Data', color='C1')\n",
    "ax.plot(np.radians(rad4['azangle']), rad4fit,\n",
    "         label='r=4 Fit function', color='C1')\n",
    "\n",
    "ax.legend(loc=6, bbox_to_anchor=(1,0.5), frameon=False)\n",
    "\n",
    "ax.set_xlabel('Speaker Azimuth [rad]')\n",
    "ax.set_ylabel('Signal Delay [ms]')\n",
    "\n",
    "fig.tight_layout()\n",
    "fig.savefig('../figures/speaker_char_time_offsets.png', dpi=200, bbox_inches='tight')"
   ]
  },
  {
   "cell_type": "code",
   "execution_count": null,
   "metadata": {},
   "outputs": [],
   "source": []
  },
  {
   "cell_type": "code",
   "execution_count": 130,
   "metadata": {},
   "outputs": [
    {
     "data": {
      "image/png": "[encoded data removed]",
      "text/plain": [
       "<matplotlib.figure.Figure at 0x117aee550>"
      ]
     },
     "metadata": {},
     "output_type": "display_data"
    }
   ],
   "source": [
    "newstats = newdat.copy()\n",
    "newstats['80.0'] = np.NaN\n",
    "newstats = newstats.describe().T\n",
    "newstats['mean'] -= newstats['mean'].min()\n",
    "\n",
    "oldstats = olddat.copy()\n",
    "mask = (oldstats < oldstats.quantile(q=0.01))\n",
    "oldstats[mask] = np.NaN\n",
    "oldstats = oldstats.describe().T\n",
    "# oldstats['mean'] -= oldstats['mean'].min()\n",
    "\n",
    "fig, ax = plt.subplots(figsize=(5,3))\n",
    "# ax.errorbar(np.array([x*10 for x in range(-10,11)]), \n",
    "#             oldstats['mean'].values/(samplefreq*upsamplefactor/1000), \n",
    "#             yerr=oldstats['std']/(samplefreq*upsamplefactor/1000),\n",
    "#            label='old mic, new data')\n",
    "\n",
    "ax.errorbar(np.array([x*10 for x in range(-10,11)]), \n",
    "            newstats['mean'].values/(samplefreq*upsamplefactor/1000), \n",
    "            yerr=newstats['std']/(samplefreq*upsamplefactor/1000),\n",
    "            label='new mic', color='C2')\n",
    "\n",
    "ax.scatter(rad2['azangle'], rad2['offset'], label='r=2 Data')\n",
    "ax.plot(rad2['azangle'], rad2fit,\n",
    "         label='r=2 Fit function')\n",
    "\n",
    "ax.scatter(rad4['azangle'], rad4['offset'], label='r=4 Data', color='C1')\n",
    "ax.plot(rad4['azangle'], rad4fit,\n",
    "         label='r=4 Fit function', color='C1')\n",
    "\n",
    "ax.legend(loc=6, bbox_to_anchor=(1,0.5), frameon=False)\n",
    "\n",
    "ax.set_xlabel('Azimuth Angle [$^\\circ$]')\n",
    "ax.set_ylabel('Time delay [ms]')\n",
    "\n",
    "fig.tight_layout()\n",
    "fig.savefig('../figures/new_mic_test.png', dpi=200, bbox_inches='tight')"
   ]
  },
  {
   "cell_type": "code",
   "execution_count": null,
   "metadata": {},
   "outputs": [],
   "source": []
  },
  {
   "cell_type": "code",
   "execution_count": null,
   "metadata": {},
   "outputs": [],
   "source": []
  },
  {
   "cell_type": "code",
   "execution_count": 135,
   "metadata": {},
   "outputs": [
    {
     "data": {
      "text/plain": [
       "(1220000, 21)"
      ]
     },
     "execution_count": 135,
     "metadata": {},
     "output_type": "execute_result"
    }
   ],
   "source": [
    "old_mic_data.shape"
   ]
  },
  {
   "cell_type": "code",
   "execution_count": 136,
   "metadata": {},
   "outputs": [
    {
     "data": {
      "text/plain": [
       "(3600000, 21)"
      ]
     },
     "execution_count": 136,
     "metadata": {},
     "output_type": "execute_result"
    }
   ],
   "source": [
    "new_mic_data.shape"
   ]
  },
  {
   "cell_type": "code",
   "execution_count": 196,
   "metadata": {},
   "outputs": [
    {
     "data": {
      "image/png": "[encoded data removed]",
      "text/plain": [
       "<matplotlib.figure.Figure at 0x1f256ec18>"
      ]
     },
     "metadata": {},
     "output_type": "display_data"
    }
   ],
   "source": [
    "fig,ax = plt.subplots(figsize=(5,3))\n",
    "\n",
    "ax.hist(new_mic_data['0'], bins = np.linspace(-10,10,50), \n",
    "        weights=np.ones(len(new_mic_data['0']))/len(new_mic_data['0']), \n",
    "        edgecolor='k', alpha=0.5)\n",
    "ax.hist(old_mic_data['0'], bins = np.linspace(-10,10,50), \n",
    "        weights=np.ones(len(old_mic_data['0']))/len(old_mic_data['0']), \n",
    "        edgecolor='k', alpha=0.5)\n",
    "\n",
    "ax.set_xlabel('Mic Voltage [V]')\n",
    "ax.set_ylabel('Frequency [%]')\n",
    "\n",
    "ax.legend(['new mic','old mic'])\n",
    "fig.savefig('../figures/mic_hist.png', dpi=200, bbox_inches='tight')"
   ]
  },
  {
   "cell_type": "code",
   "execution_count": 181,
   "metadata": {},
   "outputs": [],
   "source": [
    "new0 = np.abs(np.fft.fft(new_mic_data['0'].values))**2\n",
    "newfreqs = np.fft.fftfreq(len(new_mic_data['0'].values), d=1/20000)\n",
    "\n",
    "old0 = np.abs(np.fft.fft(old_mic_data['0'].values))**2\n",
    "oldfreqs = np.fft.fftfreq(len(old_mic_data['0'].values), d=1/20000)\n"
   ]
  },
  {
   "cell_type": "code",
   "execution_count": null,
   "metadata": {},
   "outputs": [],
   "source": []
  },
  {
   "cell_type": "code",
   "execution_count": null,
   "metadata": {},
   "outputs": [],
   "source": [
    "adat.meta.chirp_freq-adat.meta.chirp_bandWidth/2"
   ]
  },
  {
   "cell_type": "code",
   "execution_count": 197,
   "metadata": {},
   "outputs": [
    {
     "data": {
      "image/png": "[encoded data removed]",
      "text/plain": [
       "<matplotlib.figure.Figure at 0x17c326940>"
      ]
     },
     "metadata": {},
     "output_type": "display_data"
    }
   ],
   "source": [
    "fig=plt.figure(figsize=(5,3))\n",
    "\n",
    "plt.plot(newfreqs[0:int(len(new0)/2)], new0[0:int(len(new0)/2)], label='new mic')\n",
    "plt.plot(oldfreqs[0:int(len(old0)/2)], old0[0:int(len(old0)/2)], label='old mic')\n",
    "\n",
    "plt.yscale('log')\n",
    "plt.xscale('log')\n",
    "\n",
    "plt.xlabel('Frequency [Hz]')\n",
    "plt.ylabel('PSD [V$^2$]')\n",
    "\n",
    "plt.axvspan(adat.meta.chirp_freq-adat.meta.chirp_bandWidth/2, adat.meta.chirp_freq+adat.meta.chirp_bandWidth/2, color='C2', alpha=0.35)\n",
    "\n",
    "plt.legend()\n",
    "\n",
    "fig.tight_layout()\n",
    "fig.savefig('../figures/mic_psd.png', dpi=200, bbox_inches='tight')"
   ]
  },
  {
   "cell_type": "code",
   "execution_count": 189,
   "metadata": {},
   "outputs": [
    {
     "name": "stderr",
     "output_type": "stream",
     "text": [
      "/Users/nhamilto/.local/lib/python3.6/site-packages/numpy/core/numeric.py:492: ComplexWarning: Casting complex values to real discards the imaginary part\n",
      "  return array(a, dtype, copy=False, order=order)\n",
      "/Users/nhamilto/.local/lib/python3.6/site-packages/matplotlib/ticker.py:2206: UserWarning: Data has no positive values, and therefore cannot be log-scaled.\n",
      "  \"Data has no positive values, and therefore cannot be \"\n"
     ]
    },
    {
     "data": {
      "text/plain": [
       "(<matplotlib.figure.Figure at 0x121c84390>,)"
      ]
     },
     "execution_count": 189,
     "metadata": {},
     "output_type": "execute_result"
    },
    {
     "data": {
      "image/png": "[encoded data removed]",
      "text/plain": [
       "<matplotlib.figure.Figure at 0x121c84390>"
      ]
     },
     "metadata": {},
     "output_type": "display_data"
    }
   ],
   "source": [
    "fig,ax = plt.subplots(figsize=(5,3))\n",
    "start = int(len(newfreqs)/2)\n",
    "ax.plot(newfreqs[start:], newFFT[start:])\n",
    "start = int(len(oldfreqs)/2)\n",
    "\n",
    "ax.plot(oldfreqs[start:], oldFFT[start:])\n",
    "\n",
    "ax.set_xscale('log')\n",
    "ax.set_yscale('log')\n",
    "\n",
    "ax.set_xlabel('Frequency [Hz]')\n",
    "ax.set_ylabel('PSD [V$^2$]')\n",
    "\n",
    "ax.legend(['new mic','old mic'])\n",
    "fig,"
   ]
  },
  {
   "cell_type": "code",
   "execution_count": 167,
   "metadata": {},
   "outputs": [
    {
     "data": {
      "text/plain": [
       "1.2"
      ]
     },
     "execution_count": 167,
     "metadata": {},
     "output_type": "execute_result"
    }
   ],
   "source": [
    "adat.meta.chirp_freq"
   ]
  },
  {
   "cell_type": "code",
   "execution_count": null,
   "metadata": {},
   "outputs": [],
   "source": []
  }
 ],
 "metadata": {
  "kernelspec": {
   "display_name": "Python 3",
   "language": "python",
   "name": "python3"
  },
  "language_info": {
   "codemirror_mode": {
    "name": "ipython",
    "version": 3
   },
   "file_extension": ".py",
   "mimetype": "text/x-python",
   "name": "python",
   "nbconvert_exporter": "python",
   "pygments_lexer": "ipython3",
   "version": "3.6.4"
  }
 },
 "nbformat": 4,
 "nbformat_minor": 2
}
