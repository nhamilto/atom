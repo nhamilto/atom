{
 "cells": [
  {
   "cell_type": "code",
   "execution_count": 1,
   "metadata": {},
   "outputs": [
    {
     "ename": "SyntaxError",
     "evalue": "invalid syntax (constants.py, line 22)",
     "output_type": "error",
     "traceback": [
      "Traceback \u001b[0;36m(most recent call last)\u001b[0m:\n",
      "  File \u001b[1;32m\"/Users/nhamilto/anaconda/lib/python3.6/site-packages/IPython/core/interactiveshell.py\"\u001b[0m, line \u001b[1;32m2910\u001b[0m, in \u001b[1;35mrun_code\u001b[0m\n    exec(code_obj, self.user_global_ns, self.user_ns)\n",
      "\u001b[0;36m  File \u001b[0;32m\"<ipython-input-1-d0a186fba914>\"\u001b[0;36m, line \u001b[0;32m11\u001b[0;36m, in \u001b[0;35m<module>\u001b[0;36m\u001b[0m\n\u001b[0;31m    import constants\u001b[0m\n",
      "\u001b[0;36m  File \u001b[0;32m\"/Users/nhamilto/Documents/ATom/coderepo/constants.py\"\u001b[0;36m, line \u001b[0;32m22\u001b[0m\n\u001b[0;31m    T_record = 500 (depricated?)\u001b[0m\n\u001b[0m                              ^\u001b[0m\n\u001b[0;31mSyntaxError\u001b[0m\u001b[0;31m:\u001b[0m invalid syntax\n"
     ]
    }
   ],
   "source": [
    "import pandas as pd\n",
    "import datetime as dt\n",
    "import numpy as np\n",
    "\n",
    "# data path, constants, etc.\n",
    "import sys\n",
    "datapath = '/Users/nhamilto/Documents/ATom/coderepo/ATom/'\n",
    "sys.path.append(datapath)\n",
    "\n",
    "# constants and parameters from data collection\n",
    "import constants \n",
    "\n",
    "# signal latency from AT array\n",
    "import offsets \n",
    "\n",
    "# plot things\n",
    "import matplotlib.pyplot as plt\n",
    "plt.style.use('seaborn-deep')"
   ]
  },
  {
   "cell_type": "code",
   "execution_count": 2,
   "metadata": {},
   "outputs": [],
   "source": [
    "from scipy import optimize\n",
    "\n",
    "def cosine_fit_func(x, a, b, c):\n",
    "    return a * np.cos(b * x)+c"
   ]
  },
  {
   "cell_type": "markdown",
   "metadata": {},
   "source": [
    "### Speaker characterization data\n",
    "signal latency at several fixed radial distances from the center of the speaker aperature as a function of azimuth angle"
   ]
  },
  {
   "cell_type": "code",
   "execution_count": 3,
   "metadata": {},
   "outputs": [],
   "source": [
    "colnames = ['azangle'] + [x for x in range(120)]\n",
    "speaker = pd.read_csv('../../data/speaker_char_raw_data_210818.csv', names=colnames, skiprows=1)\n",
    "\n",
    "speaker['azangle'].ffill(inplace=True)\n",
    "speaker = speaker.set_index('azangle').drop('4m', axis=0)\n",
    "speaker.set_index(pd.to_numeric(speaker.index), inplace=True)\n",
    "speaker['radius'] = np.concatenate(((2*np.ones(int(len(speaker.index)/2))).astype(int), (4*np.ones(int(len(speaker.index)/2+1))).astype(int)))\n",
    "speaker.reset_index(inplace=True)\n",
    "speaker.set_index(['radius','azangle'], inplace=True)\n"
   ]
  },
  {
   "cell_type": "markdown",
   "metadata": {},
   "source": [
    "- calculate mean offset time,\n",
    "- exclude outliers,\n",
    "- separate by radial distance, \n",
    "- subtract minimum value, "
   ]
  },
  {
   "cell_type": "code",
   "execution_count": 4,
   "metadata": {},
   "outputs": [],
   "source": [
    "# get mean values over 120 records\n",
    "meanoff = speaker.T.mean()\n",
    "\n",
    "# remove and replace obvious outliers\n",
    "meanoff.loc[2,[-40,40]] = np.nan\n",
    "meanoff.interpolate(inplace=True)\n",
    "meanoff.loc[4,[-100]] = np.nan\n",
    "meanoff.bfill(inplace=True)\n",
    "\n",
    "# extract data for radial distance = 2 m\n",
    "rad2 = meanoff.xs(2, level=0) - meanoff.xs(2, level=0).min()\n",
    "rad2 = rad2.reset_index()\n",
    "rad2.columns = ['azangle', 'offset']\n",
    "\n",
    "# extract data for radial distance = 4 m\n",
    "rad4 = meanoff.xs(4, level=0) - meanoff.xs(4, level=0).min()\n",
    "rad4 = rad4.reset_index()\n",
    "rad4.columns = ['azangle', 'offset']\n",
    "\n",
    "# fit cosine curve to data\n",
    "rad2params, params_covariance = optimize.curve_fit(cosine_fit_func, np.radians(rad2['azangle']), rad2['offset'], p0=[0.15, 2, 0.15])\n",
    "rad4params, params_covariance = optimize.curve_fit(cosine_fit_func, np.radians(rad4['azangle']), rad4['offset'], p0=[0.15, 2, 0.15])\n",
    "\n",
    "rad2fit = cosine_fit_func(np.radians(rad2['azangle']), rad2params[0], rad2params[1], rad2params[2])\n",
    "rad4fit = cosine_fit_func(np.radians(rad4['azangle']), rad4params[0], rad4params[1], rad4params[2])"
   ]
  },
  {
   "cell_type": "code",
   "execution_count": 5,
   "metadata": {},
   "outputs": [
    {
     "data": {
      "image/png": "[encoded data removed]",
      "text/plain": [
       "<matplotlib.figure.Figure at 0x113aaeac8>"
      ]
     },
     "metadata": {},
     "output_type": "display_data"
    }
   ],
   "source": [
    "fig, ax = plt.subplots(figsize=(5,3))\n",
    "ax.scatter(np.radians(rad2['azangle']), rad2['offset'], label='r=2 Data')\n",
    "ax.plot(np.radians(rad2['azangle']), rad2fit,\n",
    "         label='r=2 Fit function')\n",
    "\n",
    "ax.scatter(np.radians(rad4['azangle']), rad4['offset'], label='r=4 Data', color='C1')\n",
    "ax.plot(np.radians(rad4['azangle']), rad4fit,\n",
    "         label='r=4 Fit function', color='C1')\n",
    "\n",
    "ax.legend(loc=6, bbox_to_anchor=(1,0.5), frameon=False)\n",
    "\n",
    "ax.set_xlabel('Speaker Azimuth [rad]')\n",
    "ax.set_ylabel('Signal Delay [ms]')\n",
    "\n",
    "fig.tight_layout()\n",
    "fig.savefig('../figures/speaker_char_time_offsets.png', dpi=200, bbox_inches='tight')"
   ]
  },
  {
   "cell_type": "markdown",
   "metadata": {},
   "source": [
    "### Signal latency\n",
    "Time delays produced by the particulasr equipment in use can be another factor in accuracy of the AT array"
   ]
  },
  {
   "cell_type": "code",
   "execution_count": 6,
   "metadata": {},
   "outputs": [],
   "source": [
    "colnames = ['Speaker', 'PA'] + [x for x in range(120)]\n",
    "latency = pd.read_csv('../../data/latency_characterization_210818.csv', names=colnames)#, skiprows=1)\n",
    "\n",
    "latency[['Speaker', 'PA']] = latency[['Speaker', 'PA']].ffill()#inplace=True)\n",
    "latency.set_index(['Speaker', 'PA'], inplace=True)\n",
    "\n",
    "# interpolate over missing data?\n",
    "latency = latency.interpolate(axis=1)\n",
    "\n",
    "meanlat = latency.T.mean()\n",
    "meanlat = pd.DataFrame(meanlat)\n",
    "meanlat = meanlat.groupby(['Speaker', 'PA']).mean().unstack()"
   ]
  },
  {
   "cell_type": "code",
   "execution_count": 12,
   "metadata": {},
   "outputs": [
    {
     "ename": "TypeError",
     "evalue": "background_gradient() got an unexpected keyword argument 'alpha'",
     "output_type": "error",
     "traceback": [
      "\u001b[0;31m---------------------------------------------------------------------------\u001b[0m",
      "\u001b[0;31mTypeError\u001b[0m                                 Traceback (most recent call last)",
      "\u001b[0;32m<ipython-input-12-f854085b972c>\u001b[0m in \u001b[0;36m<module>\u001b[0;34m()\u001b[0m\n\u001b[0;32m----> 1\u001b[0;31m \u001b[0mmeanlat\u001b[0m\u001b[0;34m.\u001b[0m\u001b[0mstyle\u001b[0m\u001b[0;34m.\u001b[0m\u001b[0mbackground_gradient\u001b[0m\u001b[0;34m(\u001b[0m\u001b[0mcmap\u001b[0m\u001b[0;34m=\u001b[0m\u001b[0;34m'viridis'\u001b[0m\u001b[0;34m,\u001b[0m \u001b[0mlow\u001b[0m\u001b[0;34m=\u001b[0m\u001b[0;36m0.75\u001b[0m\u001b[0;34m,\u001b[0m \u001b[0mhigh\u001b[0m\u001b[0;34m=\u001b[0m\u001b[0;34m-\u001b[0m\u001b[0;36m0.25\u001b[0m\u001b[0;34m,\u001b[0m \u001b[0malpha\u001b[0m\u001b[0;34m=\u001b[0m\u001b[0;36m0.5\u001b[0m\u001b[0;34m)\u001b[0m\u001b[0;34m\u001b[0m\u001b[0m\n\u001b[0m",
      "\u001b[0;31mTypeError\u001b[0m: background_gradient() got an unexpected keyword argument 'alpha'"
     ]
    }
   ],
   "source": [
    "meanlat.style.background_gradient(cmap='viridis', low=0.75, high=-0.25, alpha=0.5)"
   ]
  },
  {
   "cell_type": "code",
   "execution_count": 8,
   "metadata": {},
   "outputs": [
    {
     "data": {
      "text/plain": [
       "array([[1.05875   , 1.06001389, 1.06030556, 1.06488889, 1.06494444,\n",
       "        1.06097222, 1.06158333, 1.06022222],\n",
       "       [1.12      , 1.12      , 1.12      , 1.12434722, 1.12206944,\n",
       "        1.125     , 1.125     , 1.12      ],\n",
       "       [1.11554167, 1.11765278, 1.11593056, 1.11819444, 1.11965278,\n",
       "        1.11826389, 1.11522222, 1.11504167],\n",
       "       [1.04314257, 1.044875  , 1.05921592, 1.06113889, 1.05920833,\n",
       "        1.06051389, 1.060875  , 1.04394444],\n",
       "       [1.11075   , 1.11193056, 1.11      , 1.11398611, 1.11497222,\n",
       "        1.11497222, 1.11405556, 1.11004167],\n",
       "       [1.0805    , 1.08470833, 1.085125  , 1.08493056, 1.08505556,\n",
       "        1.08504167, 1.08465278, 1.07798611],\n",
       "       [1.13984722, 1.13931944, 1.13798611, 1.14      , 1.14004167,\n",
       "        1.13959722, 1.139875  , 1.13877778],\n",
       "       [1.09001389, 1.0905    , 1.10404167, 1.09431944, 1.09194444,\n",
       "        1.09      , 1.09      , 1.08895833]])"
      ]
     },
     "execution_count": 8,
     "metadata": {},
     "output_type": "execute_result"
    }
   ],
   "source": [
    "# write to file!\n",
    "meanlat.to_csv('../calibration_data/average_latency_220818.csv')\n",
    "np.array(meanlat)"
   ]
  },
  {
   "cell_type": "markdown",
   "metadata": {},
   "source": [
    "### Instrument locations"
   ]
  },
  {
   "cell_type": "code",
   "execution_count": 7,
   "metadata": {},
   "outputs": [],
   "source": [
    "locations = pd.read_csv('../NWTC_tomography_robotic.csv', names=['ID','northing','easting','elevation','device','subarea'])"
   ]
  },
  {
   "cell_type": "code",
   "execution_count": 8,
   "metadata": {},
   "outputs": [],
   "source": [
    "locations.drop('ID', axis=1, inplace=True)\n",
    "locations.set_index(['device','subarea'], inplace=True)\n",
    "\n",
    "reindex = list(set(locations.index.get_level_values(0)))\n",
    "reindex.sort()\n",
    "reindex = ['Station {}'.format(int(x+1)) for x in [7,0,1,2,3,4,5,6]]\n",
    "locations.T.columns.set_levels(reindex,level=0,inplace=True)\n",
    "locations.sort_index(inplace=True)\n"
   ]
  },
  {
   "cell_type": "code",
   "execution_count": 9,
   "metadata": {},
   "outputs": [],
   "source": [
    "# extract microphone positions\n",
    "mics = locations.xs('MIC', level=1)\n",
    "\n",
    "# extract speaker positions positions\n",
    "speakers = locations.drop('MIC', level=1)\n",
    "speakerlocs = speakers.mean(level=0)\n"
   ]
  },
  {
   "cell_type": "code",
   "execution_count": 10,
   "metadata": {},
   "outputs": [
    {
     "data": {
      "image/png": "[encoded data removed]",
      "text/plain": [
       "<matplotlib.figure.Figure at 0x11cbf5f60>"
      ]
     },
     "metadata": {},
     "output_type": "display_data"
    }
   ],
   "source": [
    "fig, ax = plt.subplots()\n",
    "speakerlocs.plot.scatter(x='easting', y='northing', ax=ax)\n",
    "mics.plot.scatter(x='easting', y='northing', ax=ax, color='C2')\n",
    "\n",
    "for ii in range(8):\n",
    "    t = ax.text(speakerlocs['easting'].iloc[ii], speakerlocs['northing'].iloc[ii]+10, str(ii+1), ha=\"center\", va=\"bottom\", size=15,)\n",
    "    \n",
    "ax.set_xlabel('E-W [m]')\n",
    "ax.set_ylabel('N-S [m]')\n",
    "\n",
    "ax.set_aspect('equal', 'box')\n",
    "\n",
    "ax.legend(['speakers', 'mics'], frameon=False)\n",
    "\n",
    "fig.tight_layout()\n",
    "\n",
    "fig.savefig('../figures/inst_locations.png', dpi=200, bbox_inches='tight')"
   ]
  },
  {
   "cell_type": "markdown",
   "metadata": {},
   "source": [
    "### Estimate locations of missing mics\n",
    "for Station 2, estimate mic location as the average distance between speakers and mics, in the direction of Station 3.\n",
    "\n",
    "for Station 4, estimate mic location as the average distance between speakers and mics, in the direction of Station 5."
   ]
  },
  {
   "cell_type": "code",
   "execution_count": 11,
   "metadata": {},
   "outputs": [
    {
     "data": {
      "text/html": [
       "<div>\n",
       "<style scoped>\n",
       "    .dataframe tbody tr th:only-of-type {\n",
       "        vertical-align: middle;\n",
       "    }\n",
       "\n",
       "    .dataframe tbody tr th {\n",
       "        vertical-align: top;\n",
       "    }\n",
       "\n",
       "    .dataframe thead th {\n",
       "        text-align: right;\n",
       "    }\n",
       "</style>\n",
       "<table border=\"1\" class=\"dataframe\">\n",
       "  <thead>\n",
       "    <tr style=\"text-align: right;\">\n",
       "      <th></th>\n",
       "      <th>northing</th>\n",
       "      <th>easting</th>\n",
       "      <th>elevation</th>\n",
       "      <th>dist</th>\n",
       "    </tr>\n",
       "    <tr>\n",
       "      <th>device</th>\n",
       "      <th></th>\n",
       "      <th></th>\n",
       "      <th></th>\n",
       "      <th></th>\n",
       "    </tr>\n",
       "  </thead>\n",
       "  <tbody>\n",
       "    <tr>\n",
       "      <th>Station 1</th>\n",
       "      <td>-1.17175</td>\n",
       "      <td>2.00775</td>\n",
       "      <td>0.03875</td>\n",
       "      <td>2.324986</td>\n",
       "    </tr>\n",
       "    <tr>\n",
       "      <th>Station 2</th>\n",
       "      <td>NaN</td>\n",
       "      <td>NaN</td>\n",
       "      <td>NaN</td>\n",
       "      <td>NaN</td>\n",
       "    </tr>\n",
       "    <tr>\n",
       "      <th>Station 3</th>\n",
       "      <td>-2.30100</td>\n",
       "      <td>-0.42625</td>\n",
       "      <td>-0.19475</td>\n",
       "      <td>2.348237</td>\n",
       "    </tr>\n",
       "    <tr>\n",
       "      <th>Station 4</th>\n",
       "      <td>NaN</td>\n",
       "      <td>NaN</td>\n",
       "      <td>NaN</td>\n",
       "      <td>NaN</td>\n",
       "    </tr>\n",
       "    <tr>\n",
       "      <th>Station 5</th>\n",
       "      <td>0.33600</td>\n",
       "      <td>-2.24775</td>\n",
       "      <td>0.00625</td>\n",
       "      <td>2.272733</td>\n",
       "    </tr>\n",
       "    <tr>\n",
       "      <th>Station 6</th>\n",
       "      <td>1.98675</td>\n",
       "      <td>-1.21825</td>\n",
       "      <td>0.06650</td>\n",
       "      <td>2.331465</td>\n",
       "    </tr>\n",
       "    <tr>\n",
       "      <th>Station 7</th>\n",
       "      <td>2.23300</td>\n",
       "      <td>0.27700</td>\n",
       "      <td>0.06375</td>\n",
       "      <td>2.251018</td>\n",
       "    </tr>\n",
       "    <tr>\n",
       "      <th>Station 8</th>\n",
       "      <td>0.87750</td>\n",
       "      <td>2.15400</td>\n",
       "      <td>0.07025</td>\n",
       "      <td>2.326942</td>\n",
       "    </tr>\n",
       "  </tbody>\n",
       "</table>\n",
       "</div>"
      ],
      "text/plain": [
       "           northing  easting  elevation      dist\n",
       "device                                           \n",
       "Station 1  -1.17175  2.00775    0.03875  2.324986\n",
       "Station 2       NaN      NaN        NaN       NaN\n",
       "Station 3  -2.30100 -0.42625   -0.19475  2.348237\n",
       "Station 4       NaN      NaN        NaN       NaN\n",
       "Station 5   0.33600 -2.24775    0.00625  2.272733\n",
       "Station 6   1.98675 -1.21825    0.06650  2.331465\n",
       "Station 7   2.23300  0.27700    0.06375  2.251018\n",
       "Station 8   0.87750  2.15400    0.07025  2.326942"
      ]
     },
     "execution_count": 11,
     "metadata": {},
     "output_type": "execute_result"
    }
   ],
   "source": [
    "micoffsets = mics - speakerlocs\n",
    "micoffsets['dist'] = np.sqrt(micoffsets['northing']**2 + micoffsets['easting']**2 + micoffsets['elevation']**2)\n",
    "\n",
    "avdist = micoffsets['dist'].mean()\n",
    "avelevation = micoffsets['elevation'].mean()\n",
    "\n",
    "micoffsets"
   ]
  },
  {
   "cell_type": "code",
   "execution_count": 14,
   "metadata": {},
   "outputs": [],
   "source": [
    "dely = speakerlocs['northing'].iloc[2] - speakerlocs['northing'].iloc[1]\n",
    "delx = speakerlocs['easting'].iloc[2] - speakerlocs['easting'].iloc[1]\n",
    "dir23 = np.arctan2(dely, delx)\n",
    "\n",
    "dely = speakerlocs['northing'].iloc[4] - speakerlocs['northing'].iloc[3]\n",
    "delx = speakerlocs['easting'].iloc[4] - speakerlocs['easting'].iloc[3]\n",
    "dir45 = np.arctan2(dely, delx)\n",
    "\n",
    "# temp = micoffsets.copy()\n",
    "micoffsets.loc['Station 2'] = [np.sin(dir23)*avdist, np.cos(dir23)*avdist, avelevation, avdist]\n",
    "micoffsets.loc['Station 4'] = [np.sin(dir45)*avdist, np.cos(dir45)*avdist, avelevation, avdist]"
   ]
  },
  {
   "cell_type": "code",
   "execution_count": 15,
   "metadata": {},
   "outputs": [],
   "source": [
    "mics = speakerlocs + micoffsets\n",
    "mics.drop('dist',axis=1, inplace=True)\n",
    "mics = mics[['northing', 'easting', 'elevation']]\n"
   ]
  },
  {
   "cell_type": "code",
   "execution_count": 16,
   "metadata": {},
   "outputs": [
    {
     "data": {
      "image/png": "[encoded data removed]",
      "text/plain": [
       "<matplotlib.figure.Figure at 0x1098187f0>"
      ]
     },
     "metadata": {},
     "output_type": "display_data"
    }
   ],
   "source": [
    "fig, ax = plt.subplots()\n",
    "speakerlocs.plot.scatter(x='easting', y='northing', ax=ax)\n",
    "mics.plot.scatter(x='easting', y='northing', ax=ax, color='C2')\n",
    "\n",
    "for ii in range(8):\n",
    "    t = ax.text(speakerlocs['easting'].iloc[ii], speakerlocs['northing'].iloc[ii]+10, str(ii+1), ha=\"center\", va=\"bottom\", size=15,)\n",
    "    \n",
    "ax.set_xlabel('E-W [m]')\n",
    "ax.set_ylabel('N-S [m]')\n",
    "\n",
    "ax.set_aspect('equal', 'box')\n",
    "\n",
    "ax.legend(['speakers', 'mics'], frameon=False)\n",
    "\n",
    "fig.tight_layout()\n",
    "fig.savefig('../figures/inst_locations_add_missing.png', dpi=200, bbox_inches='tight')"
   ]
  },
  {
   "cell_type": "code",
   "execution_count": 17,
   "metadata": {},
   "outputs": [
    {
     "data": {
      "text/plain": [
       "array([[757342.515     ,  76460.405     ,   6094.11      ],\n",
       "       [757304.32830741,  76556.79205156,   6094.13970833],\n",
       "       [757223.495     ,  76551.17      ,   6093.872     ],\n",
       "       [757095.62776897,  76497.0359615 ,   6094.20970833],\n",
       "       [757081.445     ,  76420.334     ,   6094.116     ],\n",
       "       [757129.534     ,  76299.993     ,   6094.066     ],\n",
       "       [757220.544     ,  76273.092     ,   6094.115     ],\n",
       "       [757349.609     ,  76324.109     ,   6094.266     ]])"
      ]
     },
     "execution_count": 17,
     "metadata": {},
     "output_type": "execute_result"
    }
   ],
   "source": [
    "# write to file!\n",
    "mics.to_csv('../calibration_data/mic_locations_220818.csv')\n",
    "np.array(mics)"
   ]
  },
  {
   "cell_type": "code",
   "execution_count": 18,
   "metadata": {},
   "outputs": [
    {
     "data": {
      "text/plain": [
       "array([[757343.68675,  76458.39725,   6094.07125],\n",
       "       [757306.6325 ,  76556.9445 ,   6094.13125],\n",
       "       [757225.796  ,  76551.59625,   6094.06675],\n",
       "       [757096.06975,  76499.3025 ,   6094.20125],\n",
       "       [757081.109  ,  76422.58175,   6094.10975],\n",
       "       [757127.54725,  76301.21125,   6093.9995 ],\n",
       "       [757218.311  ,  76272.815  ,   6094.05125],\n",
       "       [757348.7315 ,  76321.955  ,   6094.19575]])"
      ]
     },
     "execution_count": 18,
     "metadata": {},
     "output_type": "execute_result"
    }
   ],
   "source": [
    "# write to file!\n",
    "speakerlocs.to_csv('../calibration_data/speaker_locations_220818.csv')\n",
    "np.array(speakerlocs)"
   ]
  },
  {
   "cell_type": "code",
   "execution_count": null,
   "metadata": {},
   "outputs": [],
   "source": []
  }
 ],
 "metadata": {
  "kernelspec": {
   "display_name": "Python 3",
   "language": "python",
   "name": "python3"
  },
  "language_info": {
   "codemirror_mode": {
    "name": "ipython",
    "version": 3
   },
   "file_extension": ".py",
   "mimetype": "text/x-python",
   "name": "python",
   "nbconvert_exporter": "python",
   "pygments_lexer": "ipython3",
   "version": "3.6.4"
  }
 },
 "nbformat": 4,
 "nbformat_minor": 2
}
