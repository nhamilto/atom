{
 "cells": [
  {
   "cell_type": "code",
   "execution_count": 1,
   "metadata": {},
   "outputs": [],
   "source": [
    "import pandas as pd\n",
    "import datetime as dt\n",
    "import numpy as np\n",
    "import scipy as sp\n",
    "import os\n",
    "\n",
    "# data path, constants, etc.\n",
    "import sys\n",
    "atompath = '/Users/nhamilto/Documents/ATom/coderepo/ATom/'\n",
    "sys.path.append(atompath)\n",
    "datapath = '/Users/nhamilto/Documents/ATom/coderepo/calibration_data/'\n",
    "sys.path.append(datapath)\n",
    "\n",
    "# plot things\n",
    "import matplotlib.pyplot as plt\n",
    "plt.style.use('seaborn-deep')\n",
    "\n",
    "# Acoustic tomography functions\n",
    "import atom_functions as atom"
   ]
  },
  {
   "cell_type": "code",
   "execution_count": 2,
   "metadata": {},
   "outputs": [],
   "source": [
    "from scipy import optimize\n",
    "\n",
    "def cosine_fit_func(x, a, b, c):\n",
    "    return a * np.cos(b * x)+c"
   ]
  },
  {
   "cell_type": "markdown",
   "metadata": {},
   "source": [
    "### Speaker characterization data\n",
    "signal latency at several fixed radial distances from the center of the speaker aperature as a function of azimuth angle"
   ]
  },
  {
   "cell_type": "code",
   "execution_count": 4,
   "metadata": {},
   "outputs": [],
   "source": [
    "colnames = ['azangle'] + [x for x in range(120)]\n",
    "speaker = pd.read_csv(os.path.join(datapath,'speaker_char_raw_data_210818.csv'), names=colnames, skiprows=1)\n",
    "\n",
    "speaker['azangle'].ffill(inplace=True)\n",
    "speaker = speaker.set_index('azangle').drop('4m', axis=0)\n",
    "speaker.set_index(pd.to_numeric(speaker.index), inplace=True)\n",
    "speaker['radius'] = np.concatenate(((2*np.ones(int(len(speaker.index)/2))).astype(int), (4*np.ones(int(len(speaker.index)/2+1))).astype(int)))\n",
    "speaker.reset_index(inplace=True)\n",
    "speaker.set_index(['radius','azangle'], inplace=True)\n"
   ]
  },
  {
   "cell_type": "markdown",
   "metadata": {},
   "source": [
    "- calculate mean offset time,\n",
    "- exclude outliers,\n",
    "- separate by radial distance, \n",
    "- subtract minimum value, "
   ]
  },
  {
   "cell_type": "code",
   "execution_count": 5,
   "metadata": {},
   "outputs": [],
   "source": [
    "# get mean values over 120 records\n",
    "meanoff = speaker.T.mean()\n",
    "\n",
    "# remove and replace obvious outliers\n",
    "meanoff.loc[2,[-40,40]] = np.nan\n",
    "meanoff.interpolate(inplace=True)\n",
    "meanoff.loc[4,[-100]] = np.nan\n",
    "meanoff.bfill(inplace=True)\n",
    "\n",
    "# extract data for radial distance = 2 m\n",
    "rad2 = meanoff.xs(2, level=0) - meanoff.xs(2, level=0).min()\n",
    "rad2 = rad2.reset_index()\n",
    "rad2.columns = ['azangle', 'offset']\n",
    "\n",
    "# extract data for radial distance = 4 m\n",
    "rad4 = meanoff.xs(4, level=0) - meanoff.xs(4, level=0).min()\n",
    "rad4 = rad4.reset_index()\n",
    "rad4.columns = ['azangle', 'offset']\n",
    "\n",
    "# fit cosine curve to data\n",
    "rad2params, params_covariance = optimize.curve_fit(cosine_fit_func, np.radians(rad2['azangle']), rad2['offset'], p0=[0.15, 2, 0.15])\n",
    "rad4params, params_covariance = optimize.curve_fit(cosine_fit_func, np.radians(rad4['azangle']), rad4['offset'], p0=[0.15, 2, 0.15])\n",
    "\n",
    "rad2fit = cosine_fit_func(np.radians(rad2['azangle']), rad2params[0], rad2params[1], rad2params[2])\n",
    "rad4fit = cosine_fit_func(np.radians(rad4['azangle']), rad4params[0], rad4params[1], rad4params[2])"
   ]
  },
  {
   "cell_type": "code",
   "execution_count": 7,
   "metadata": {},
   "outputs": [
    {
     "data": {
      "image/png": "[encoded data removed]",
      "text/plain": [
       "<matplotlib.figure.Figure at 0x11bc61cc0>"
      ]
     },
     "metadata": {},
     "output_type": "display_data"
    }
   ],
   "source": [
    "fig, ax = plt.subplots(figsize=(5,3))\n",
    "ax.scatter(np.radians(rad2['azangle']), rad2['offset'], label='r=2 Data')\n",
    "ax.plot(np.radians(rad2['azangle']), rad2fit,\n",
    "         label='r=2 Fit function')\n",
    "\n",
    "ax.scatter(np.radians(rad4['azangle']), rad4['offset'], label='r=4 Data', color='C1')\n",
    "ax.plot(np.radians(rad4['azangle']), rad4fit,\n",
    "         label='r=4 Fit function', color='C1')\n",
    "\n",
    "ax.legend(loc=6, bbox_to_anchor=(1,0.5), frameon=False)\n",
    "\n",
    "ax.set_xlabel('Speaker Azimuth [rad]')\n",
    "ax.set_ylabel('Signal Delay [ms]')\n",
    "\n",
    "fig.tight_layout()\n",
    "fig.savefig(os.path.join(datapath,'speaker_char_time_offsets.png'), dpi=200, bbox_inches='tight')"
   ]
  },
  {
   "cell_type": "markdown",
   "metadata": {},
   "source": [
    "### Signal latency\n",
    "Time delays produced by the particulasr equipment in use can be another factor in accuracy of the AT array"
   ]
  },
  {
   "cell_type": "code",
   "execution_count": 9,
   "metadata": {},
   "outputs": [],
   "source": [
    "colnames = ['Speaker', 'Mic'] + [x for x in range(120)]\n",
    "latency = pd.read_csv(os.path.join(datapath,'latency_characterization_210818.csv'),\n",
    "                      names=colnames)#, skiprows=1)\n",
    "\n",
    "latency[['Speaker', 'Mic']] = latency[['Speaker', 'Mic']].ffill()#inplace=True)\n",
    "latency.set_index(['Speaker', 'Mic'], inplace=True)\n",
    "\n",
    "# interpolate over missing data?\n",
    "latency = latency.interpolate(axis=1)\n",
    "\n",
    "meanlat = latency.T.mean()\n",
    "meanlat = pd.DataFrame(meanlat)\n",
    "meanlat = meanlat.groupby(['Speaker', 'Mic']).mean().unstack()"
   ]
  },
  {
   "cell_type": "code",
   "execution_count": 10,
   "metadata": {},
   "outputs": [
    {
     "data": {
      "text/html": [
       "<style  type=\"text/css\" >\n",
       "    #T_e63ae9a8_c04a_11e8_a991_00e133000a49row0_col0 {\n",
       "            background-color:  #24aa83;\n",
       "        }    #T_e63ae9a8_c04a_11e8_a991_00e133000a49row0_col1 {\n",
       "            background-color:  #24aa83;\n",
       "        }    #T_e63ae9a8_c04a_11e8_a991_00e133000a49row0_col2 {\n",
       "            background-color:  #20928c;\n",
       "        }    #T_e63ae9a8_c04a_11e8_a991_00e133000a49row0_col3 {\n",
       "            background-color:  #1f988b;\n",
       "        }    #T_e63ae9a8_c04a_11e8_a991_00e133000a49row0_col4 {\n",
       "            background-color:  #1e9c89;\n",
       "        }    #T_e63ae9a8_c04a_11e8_a991_00e133000a49row0_col5 {\n",
       "            background-color:  #21918c;\n",
       "        }    #T_e63ae9a8_c04a_11e8_a991_00e133000a49row0_col6 {\n",
       "            background-color:  #20928c;\n",
       "        }    #T_e63ae9a8_c04a_11e8_a991_00e133000a49row0_col7 {\n",
       "            background-color:  #25ac82;\n",
       "        }    #T_e63ae9a8_c04a_11e8_a991_00e133000a49row1_col0 {\n",
       "            background-color:  #fde725;\n",
       "        }    #T_e63ae9a8_c04a_11e8_a991_00e133000a49row1_col1 {\n",
       "            background-color:  #fde725;\n",
       "        }    #T_e63ae9a8_c04a_11e8_a991_00e133000a49row1_col2 {\n",
       "            background-color:  #fde725;\n",
       "        }    #T_e63ae9a8_c04a_11e8_a991_00e133000a49row1_col3 {\n",
       "            background-color:  #fde725;\n",
       "        }    #T_e63ae9a8_c04a_11e8_a991_00e133000a49row1_col4 {\n",
       "            background-color:  #fde725;\n",
       "        }    #T_e63ae9a8_c04a_11e8_a991_00e133000a49row1_col5 {\n",
       "            background-color:  #fde725;\n",
       "        }    #T_e63ae9a8_c04a_11e8_a991_00e133000a49row1_col6 {\n",
       "            background-color:  #fde725;\n",
       "        }    #T_e63ae9a8_c04a_11e8_a991_00e133000a49row1_col7 {\n",
       "            background-color:  #fde725;\n",
       "        }    #T_e63ae9a8_c04a_11e8_a991_00e133000a49row2_col0 {\n",
       "            background-color:  #fde725;\n",
       "        }    #T_e63ae9a8_c04a_11e8_a991_00e133000a49row2_col1 {\n",
       "            background-color:  #fde725;\n",
       "        }    #T_e63ae9a8_c04a_11e8_a991_00e133000a49row2_col2 {\n",
       "            background-color:  #f1e51d;\n",
       "        }    #T_e63ae9a8_c04a_11e8_a991_00e133000a49row2_col3 {\n",
       "            background-color:  #f4e61e;\n",
       "        }    #T_e63ae9a8_c04a_11e8_a991_00e133000a49row2_col4 {\n",
       "            background-color:  #fde725;\n",
       "        }    #T_e63ae9a8_c04a_11e8_a991_00e133000a49row2_col5 {\n",
       "            background-color:  #f6e620;\n",
       "        }    #T_e63ae9a8_c04a_11e8_a991_00e133000a49row2_col6 {\n",
       "            background-color:  #e5e419;\n",
       "        }    #T_e63ae9a8_c04a_11e8_a991_00e133000a49row2_col7 {\n",
       "            background-color:  #fde725;\n",
       "        }    #T_e63ae9a8_c04a_11e8_a991_00e133000a49row3_col0 {\n",
       "            background-color:  #21918c;\n",
       "        }    #T_e63ae9a8_c04a_11e8_a991_00e133000a49row3_col1 {\n",
       "            background-color:  #21918c;\n",
       "        }    #T_e63ae9a8_c04a_11e8_a991_00e133000a49row3_col2 {\n",
       "            background-color:  #21918c;\n",
       "        }    #T_e63ae9a8_c04a_11e8_a991_00e133000a49row3_col3 {\n",
       "            background-color:  #21918c;\n",
       "        }    #T_e63ae9a8_c04a_11e8_a991_00e133000a49row3_col4 {\n",
       "            background-color:  #21918c;\n",
       "        }    #T_e63ae9a8_c04a_11e8_a991_00e133000a49row3_col5 {\n",
       "            background-color:  #21918c;\n",
       "        }    #T_e63ae9a8_c04a_11e8_a991_00e133000a49row3_col6 {\n",
       "            background-color:  #21918c;\n",
       "        }    #T_e63ae9a8_c04a_11e8_a991_00e133000a49row3_col7 {\n",
       "            background-color:  #21908d;\n",
       "        }    #T_e63ae9a8_c04a_11e8_a991_00e133000a49row4_col0 {\n",
       "            background-color:  #eae51a;\n",
       "        }    #T_e63ae9a8_c04a_11e8_a991_00e133000a49row4_col1 {\n",
       "            background-color:  #efe51c;\n",
       "        }    #T_e63ae9a8_c04a_11e8_a991_00e133000a49row4_col2 {\n",
       "            background-color:  #d2e21b;\n",
       "        }    #T_e63ae9a8_c04a_11e8_a991_00e133000a49row4_col3 {\n",
       "            background-color:  #dde318;\n",
       "        }    #T_e63ae9a8_c04a_11e8_a991_00e133000a49row4_col4 {\n",
       "            background-color:  #e5e419;\n",
       "        }    #T_e63ae9a8_c04a_11e8_a991_00e133000a49row4_col5 {\n",
       "            background-color:  #e5e419;\n",
       "        }    #T_e63ae9a8_c04a_11e8_a991_00e133000a49row4_col6 {\n",
       "            background-color:  #dde318;\n",
       "        }    #T_e63ae9a8_c04a_11e8_a991_00e133000a49row4_col7 {\n",
       "            background-color:  #e7e419;\n",
       "        }    #T_e63ae9a8_c04a_11e8_a991_00e133000a49row5_col0 {\n",
       "            background-color:  #60ca60;\n",
       "        }    #T_e63ae9a8_c04a_11e8_a991_00e133000a49row5_col1 {\n",
       "            background-color:  #6ece58;\n",
       "        }    #T_e63ae9a8_c04a_11e8_a991_00e133000a49row5_col2 {\n",
       "            background-color:  #4ec36b;\n",
       "        }    #T_e63ae9a8_c04a_11e8_a991_00e133000a49row5_col3 {\n",
       "            background-color:  #44bf70;\n",
       "        }    #T_e63ae9a8_c04a_11e8_a991_00e133000a49row5_col4 {\n",
       "            background-color:  #4ac16d;\n",
       "        }    #T_e63ae9a8_c04a_11e8_a991_00e133000a49row5_col5 {\n",
       "            background-color:  #46c06f;\n",
       "        }    #T_e63ae9a8_c04a_11e8_a991_00e133000a49row5_col6 {\n",
       "            background-color:  #44bf70;\n",
       "        }    #T_e63ae9a8_c04a_11e8_a991_00e133000a49row5_col7 {\n",
       "            background-color:  #58c765;\n",
       "        }    #T_e63ae9a8_c04a_11e8_a991_00e133000a49row6_col0 {\n",
       "            background-color:  #fde725;\n",
       "        }    #T_e63ae9a8_c04a_11e8_a991_00e133000a49row6_col1 {\n",
       "            background-color:  #fde725;\n",
       "        }    #T_e63ae9a8_c04a_11e8_a991_00e133000a49row6_col2 {\n",
       "            background-color:  #fde725;\n",
       "        }    #T_e63ae9a8_c04a_11e8_a991_00e133000a49row6_col3 {\n",
       "            background-color:  #fde725;\n",
       "        }    #T_e63ae9a8_c04a_11e8_a991_00e133000a49row6_col4 {\n",
       "            background-color:  #fde725;\n",
       "        }    #T_e63ae9a8_c04a_11e8_a991_00e133000a49row6_col5 {\n",
       "            background-color:  #fde725;\n",
       "        }    #T_e63ae9a8_c04a_11e8_a991_00e133000a49row6_col6 {\n",
       "            background-color:  #fde725;\n",
       "        }    #T_e63ae9a8_c04a_11e8_a991_00e133000a49row6_col7 {\n",
       "            background-color:  #fde725;\n",
       "        }    #T_e63ae9a8_c04a_11e8_a991_00e133000a49row7_col0 {\n",
       "            background-color:  #89d548;\n",
       "        }    #T_e63ae9a8_c04a_11e8_a991_00e133000a49row7_col1 {\n",
       "            background-color:  #89d548;\n",
       "        }    #T_e63ae9a8_c04a_11e8_a991_00e133000a49row7_col2 {\n",
       "            background-color:  #b0dd2f;\n",
       "        }    #T_e63ae9a8_c04a_11e8_a991_00e133000a49row7_col3 {\n",
       "            background-color:  #6ece58;\n",
       "        }    #T_e63ae9a8_c04a_11e8_a991_00e133000a49row7_col4 {\n",
       "            background-color:  #69cd5b;\n",
       "        }    #T_e63ae9a8_c04a_11e8_a991_00e133000a49row7_col5 {\n",
       "            background-color:  #5cc863;\n",
       "        }    #T_e63ae9a8_c04a_11e8_a991_00e133000a49row7_col6 {\n",
       "            background-color:  #5ac864;\n",
       "        }    #T_e63ae9a8_c04a_11e8_a991_00e133000a49row7_col7 {\n",
       "            background-color:  #86d549;\n",
       "        }</style>  \n",
       "<table id=\"T_e63ae9a8_c04a_11e8_a991_00e133000a49\" > \n",
       "<thead>    <tr> \n",
       "        <th class=\"blank level0\" ></th> \n",
       "        <th class=\"col_heading level0 col0\" colspan=8>0</th> \n",
       "    </tr>    <tr> \n",
       "        <th class=\"index_name level1\" >Mic</th> \n",
       "        <th class=\"col_heading level1 col0\" >PA 1</th> \n",
       "        <th class=\"col_heading level1 col1\" >PA 2</th> \n",
       "        <th class=\"col_heading level1 col2\" >PA 3</th> \n",
       "        <th class=\"col_heading level1 col3\" >PA 4</th> \n",
       "        <th class=\"col_heading level1 col4\" >PA 5</th> \n",
       "        <th class=\"col_heading level1 col5\" >PA 6</th> \n",
       "        <th class=\"col_heading level1 col6\" >PA 7</th> \n",
       "        <th class=\"col_heading level1 col7\" >PA 8</th> \n",
       "    </tr>    <tr> \n",
       "        <th class=\"index_name level0\" >Speaker</th> \n",
       "        <th class=\"blank\" ></th> \n",
       "        <th class=\"blank\" ></th> \n",
       "        <th class=\"blank\" ></th> \n",
       "        <th class=\"blank\" ></th> \n",
       "        <th class=\"blank\" ></th> \n",
       "        <th class=\"blank\" ></th> \n",
       "        <th class=\"blank\" ></th> \n",
       "        <th class=\"blank\" ></th> \n",
       "    </tr></thead> \n",
       "<tbody>    <tr> \n",
       "        <th id=\"T_e63ae9a8_c04a_11e8_a991_00e133000a49level0_row0\" class=\"row_heading level0 row0\" >Speaker 1</th> \n",
       "        <td id=\"T_e63ae9a8_c04a_11e8_a991_00e133000a49row0_col0\" class=\"data row0 col0\" >1.05875</td> \n",
       "        <td id=\"T_e63ae9a8_c04a_11e8_a991_00e133000a49row0_col1\" class=\"data row0 col1\" >1.06001</td> \n",
       "        <td id=\"T_e63ae9a8_c04a_11e8_a991_00e133000a49row0_col2\" class=\"data row0 col2\" >1.06031</td> \n",
       "        <td id=\"T_e63ae9a8_c04a_11e8_a991_00e133000a49row0_col3\" class=\"data row0 col3\" >1.06489</td> \n",
       "        <td id=\"T_e63ae9a8_c04a_11e8_a991_00e133000a49row0_col4\" class=\"data row0 col4\" >1.06494</td> \n",
       "        <td id=\"T_e63ae9a8_c04a_11e8_a991_00e133000a49row0_col5\" class=\"data row0 col5\" >1.06097</td> \n",
       "        <td id=\"T_e63ae9a8_c04a_11e8_a991_00e133000a49row0_col6\" class=\"data row0 col6\" >1.06158</td> \n",
       "        <td id=\"T_e63ae9a8_c04a_11e8_a991_00e133000a49row0_col7\" class=\"data row0 col7\" >1.06022</td> \n",
       "    </tr>    <tr> \n",
       "        <th id=\"T_e63ae9a8_c04a_11e8_a991_00e133000a49level0_row1\" class=\"row_heading level0 row1\" >Speaker 2</th> \n",
       "        <td id=\"T_e63ae9a8_c04a_11e8_a991_00e133000a49row1_col0\" class=\"data row1 col0\" >1.12</td> \n",
       "        <td id=\"T_e63ae9a8_c04a_11e8_a991_00e133000a49row1_col1\" class=\"data row1 col1\" >1.12</td> \n",
       "        <td id=\"T_e63ae9a8_c04a_11e8_a991_00e133000a49row1_col2\" class=\"data row1 col2\" >1.12</td> \n",
       "        <td id=\"T_e63ae9a8_c04a_11e8_a991_00e133000a49row1_col3\" class=\"data row1 col3\" >1.12435</td> \n",
       "        <td id=\"T_e63ae9a8_c04a_11e8_a991_00e133000a49row1_col4\" class=\"data row1 col4\" >1.12207</td> \n",
       "        <td id=\"T_e63ae9a8_c04a_11e8_a991_00e133000a49row1_col5\" class=\"data row1 col5\" >1.125</td> \n",
       "        <td id=\"T_e63ae9a8_c04a_11e8_a991_00e133000a49row1_col6\" class=\"data row1 col6\" >1.125</td> \n",
       "        <td id=\"T_e63ae9a8_c04a_11e8_a991_00e133000a49row1_col7\" class=\"data row1 col7\" >1.12</td> \n",
       "    </tr>    <tr> \n",
       "        <th id=\"T_e63ae9a8_c04a_11e8_a991_00e133000a49level0_row2\" class=\"row_heading level0 row2\" >Speaker 3</th> \n",
       "        <td id=\"T_e63ae9a8_c04a_11e8_a991_00e133000a49row2_col0\" class=\"data row2 col0\" >1.11554</td> \n",
       "        <td id=\"T_e63ae9a8_c04a_11e8_a991_00e133000a49row2_col1\" class=\"data row2 col1\" >1.11765</td> \n",
       "        <td id=\"T_e63ae9a8_c04a_11e8_a991_00e133000a49row2_col2\" class=\"data row2 col2\" >1.11593</td> \n",
       "        <td id=\"T_e63ae9a8_c04a_11e8_a991_00e133000a49row2_col3\" class=\"data row2 col3\" >1.11819</td> \n",
       "        <td id=\"T_e63ae9a8_c04a_11e8_a991_00e133000a49row2_col4\" class=\"data row2 col4\" >1.11965</td> \n",
       "        <td id=\"T_e63ae9a8_c04a_11e8_a991_00e133000a49row2_col5\" class=\"data row2 col5\" >1.11826</td> \n",
       "        <td id=\"T_e63ae9a8_c04a_11e8_a991_00e133000a49row2_col6\" class=\"data row2 col6\" >1.11522</td> \n",
       "        <td id=\"T_e63ae9a8_c04a_11e8_a991_00e133000a49row2_col7\" class=\"data row2 col7\" >1.11504</td> \n",
       "    </tr>    <tr> \n",
       "        <th id=\"T_e63ae9a8_c04a_11e8_a991_00e133000a49level0_row3\" class=\"row_heading level0 row3\" >Speaker 4</th> \n",
       "        <td id=\"T_e63ae9a8_c04a_11e8_a991_00e133000a49row3_col0\" class=\"data row3 col0\" >1.04314</td> \n",
       "        <td id=\"T_e63ae9a8_c04a_11e8_a991_00e133000a49row3_col1\" class=\"data row3 col1\" >1.04488</td> \n",
       "        <td id=\"T_e63ae9a8_c04a_11e8_a991_00e133000a49row3_col2\" class=\"data row3 col2\" >1.05922</td> \n",
       "        <td id=\"T_e63ae9a8_c04a_11e8_a991_00e133000a49row3_col3\" class=\"data row3 col3\" >1.06114</td> \n",
       "        <td id=\"T_e63ae9a8_c04a_11e8_a991_00e133000a49row3_col4\" class=\"data row3 col4\" >1.05921</td> \n",
       "        <td id=\"T_e63ae9a8_c04a_11e8_a991_00e133000a49row3_col5\" class=\"data row3 col5\" >1.06051</td> \n",
       "        <td id=\"T_e63ae9a8_c04a_11e8_a991_00e133000a49row3_col6\" class=\"data row3 col6\" >1.06088</td> \n",
       "        <td id=\"T_e63ae9a8_c04a_11e8_a991_00e133000a49row3_col7\" class=\"data row3 col7\" >1.04394</td> \n",
       "    </tr>    <tr> \n",
       "        <th id=\"T_e63ae9a8_c04a_11e8_a991_00e133000a49level0_row4\" class=\"row_heading level0 row4\" >Speaker 5</th> \n",
       "        <td id=\"T_e63ae9a8_c04a_11e8_a991_00e133000a49row4_col0\" class=\"data row4 col0\" >1.11075</td> \n",
       "        <td id=\"T_e63ae9a8_c04a_11e8_a991_00e133000a49row4_col1\" class=\"data row4 col1\" >1.11193</td> \n",
       "        <td id=\"T_e63ae9a8_c04a_11e8_a991_00e133000a49row4_col2\" class=\"data row4 col2\" >1.11</td> \n",
       "        <td id=\"T_e63ae9a8_c04a_11e8_a991_00e133000a49row4_col3\" class=\"data row4 col3\" >1.11399</td> \n",
       "        <td id=\"T_e63ae9a8_c04a_11e8_a991_00e133000a49row4_col4\" class=\"data row4 col4\" >1.11497</td> \n",
       "        <td id=\"T_e63ae9a8_c04a_11e8_a991_00e133000a49row4_col5\" class=\"data row4 col5\" >1.11497</td> \n",
       "        <td id=\"T_e63ae9a8_c04a_11e8_a991_00e133000a49row4_col6\" class=\"data row4 col6\" >1.11406</td> \n",
       "        <td id=\"T_e63ae9a8_c04a_11e8_a991_00e133000a49row4_col7\" class=\"data row4 col7\" >1.11004</td> \n",
       "    </tr>    <tr> \n",
       "        <th id=\"T_e63ae9a8_c04a_11e8_a991_00e133000a49level0_row5\" class=\"row_heading level0 row5\" >Speaker 6</th> \n",
       "        <td id=\"T_e63ae9a8_c04a_11e8_a991_00e133000a49row5_col0\" class=\"data row5 col0\" >1.0805</td> \n",
       "        <td id=\"T_e63ae9a8_c04a_11e8_a991_00e133000a49row5_col1\" class=\"data row5 col1\" >1.08471</td> \n",
       "        <td id=\"T_e63ae9a8_c04a_11e8_a991_00e133000a49row5_col2\" class=\"data row5 col2\" >1.08512</td> \n",
       "        <td id=\"T_e63ae9a8_c04a_11e8_a991_00e133000a49row5_col3\" class=\"data row5 col3\" >1.08493</td> \n",
       "        <td id=\"T_e63ae9a8_c04a_11e8_a991_00e133000a49row5_col4\" class=\"data row5 col4\" >1.08506</td> \n",
       "        <td id=\"T_e63ae9a8_c04a_11e8_a991_00e133000a49row5_col5\" class=\"data row5 col5\" >1.08504</td> \n",
       "        <td id=\"T_e63ae9a8_c04a_11e8_a991_00e133000a49row5_col6\" class=\"data row5 col6\" >1.08465</td> \n",
       "        <td id=\"T_e63ae9a8_c04a_11e8_a991_00e133000a49row5_col7\" class=\"data row5 col7\" >1.07799</td> \n",
       "    </tr>    <tr> \n",
       "        <th id=\"T_e63ae9a8_c04a_11e8_a991_00e133000a49level0_row6\" class=\"row_heading level0 row6\" >Speaker 7</th> \n",
       "        <td id=\"T_e63ae9a8_c04a_11e8_a991_00e133000a49row6_col0\" class=\"data row6 col0\" >1.13985</td> \n",
       "        <td id=\"T_e63ae9a8_c04a_11e8_a991_00e133000a49row6_col1\" class=\"data row6 col1\" >1.13932</td> \n",
       "        <td id=\"T_e63ae9a8_c04a_11e8_a991_00e133000a49row6_col2\" class=\"data row6 col2\" >1.13799</td> \n",
       "        <td id=\"T_e63ae9a8_c04a_11e8_a991_00e133000a49row6_col3\" class=\"data row6 col3\" >1.14</td> \n",
       "        <td id=\"T_e63ae9a8_c04a_11e8_a991_00e133000a49row6_col4\" class=\"data row6 col4\" >1.14004</td> \n",
       "        <td id=\"T_e63ae9a8_c04a_11e8_a991_00e133000a49row6_col5\" class=\"data row6 col5\" >1.1396</td> \n",
       "        <td id=\"T_e63ae9a8_c04a_11e8_a991_00e133000a49row6_col6\" class=\"data row6 col6\" >1.13987</td> \n",
       "        <td id=\"T_e63ae9a8_c04a_11e8_a991_00e133000a49row6_col7\" class=\"data row6 col7\" >1.13878</td> \n",
       "    </tr>    <tr> \n",
       "        <th id=\"T_e63ae9a8_c04a_11e8_a991_00e133000a49level0_row7\" class=\"row_heading level0 row7\" >Speaker 8</th> \n",
       "        <td id=\"T_e63ae9a8_c04a_11e8_a991_00e133000a49row7_col0\" class=\"data row7 col0\" >1.09001</td> \n",
       "        <td id=\"T_e63ae9a8_c04a_11e8_a991_00e133000a49row7_col1\" class=\"data row7 col1\" >1.0905</td> \n",
       "        <td id=\"T_e63ae9a8_c04a_11e8_a991_00e133000a49row7_col2\" class=\"data row7 col2\" >1.10404</td> \n",
       "        <td id=\"T_e63ae9a8_c04a_11e8_a991_00e133000a49row7_col3\" class=\"data row7 col3\" >1.09432</td> \n",
       "        <td id=\"T_e63ae9a8_c04a_11e8_a991_00e133000a49row7_col4\" class=\"data row7 col4\" >1.09194</td> \n",
       "        <td id=\"T_e63ae9a8_c04a_11e8_a991_00e133000a49row7_col5\" class=\"data row7 col5\" >1.09</td> \n",
       "        <td id=\"T_e63ae9a8_c04a_11e8_a991_00e133000a49row7_col6\" class=\"data row7 col6\" >1.09</td> \n",
       "        <td id=\"T_e63ae9a8_c04a_11e8_a991_00e133000a49row7_col7\" class=\"data row7 col7\" >1.08896</td> \n",
       "    </tr></tbody> \n",
       "</table> "
      ],
      "text/plain": [
       "<pandas.io.formats.style.Styler at 0x11c95e048>"
      ]
     },
     "execution_count": 10,
     "metadata": {},
     "output_type": "execute_result"
    }
   ],
   "source": [
    "meanlat.style.background_gradient(cmap='viridis', low=0.75, high=-0.25)"
   ]
  },
  {
   "cell_type": "code",
   "execution_count": 12,
   "metadata": {},
   "outputs": [],
   "source": [
    "# write to file!\n",
    "meanlat.to_csv(os.path.join(datapath,'average_latency_220818.csv'))\n"
   ]
  },
  {
   "cell_type": "markdown",
   "metadata": {},
   "source": [
    "### Instrument locations"
   ]
  },
  {
   "cell_type": "code",
   "execution_count": 40,
   "metadata": {},
   "outputs": [],
   "source": [
    "# read locations data\n",
    "locations = pd.read_csv(os.path.join(datapath,'NWTC_tomography_robotic.csv'), \n",
    "                        names=['ID','northing','easting','elevation','device','subarea'])\n",
    "# missing data included later\n",
    "locations_addendum = pd.read_csv(os.path.join(datapath,'NWTC_Tomography_Add.csv'), \n",
    "                                 names=['ID','northing','easting','elevation','device','subarea'])\n",
    "locations_addendum['device'] = ['SPEAKER 2', 'SPEAKER 4']\n",
    "locations_addendum['subarea'] = ['MIC','MIC']\n",
    "locations = pd.concat([locations, locations_addendum],ignore_index=True)"
   ]
  },
  {
   "cell_type": "code",
   "execution_count": 41,
   "metadata": {},
   "outputs": [],
   "source": [
    "locations.drop('ID', axis=1, inplace=True)\n",
    "locations.set_index(['device','subarea'], inplace=True)\n",
    "\n",
    "reindex = list(set(locations.index.get_level_values(0)))\n",
    "reindex.sort()\n",
    "reindex = ['Station {}'.format(int(x+1)) for x in [7,0,1,2,3,4,5,6]]\n",
    "locations.T.columns.set_levels(reindex,level=0,inplace=True)\n",
    "locations.sort_index(inplace=True)\n"
   ]
  },
  {
   "cell_type": "code",
   "execution_count": 42,
   "metadata": {},
   "outputs": [],
   "source": [
    "# extract microphone positions\n",
    "mics = locations.xs('MIC', level=1)\n",
    "\n",
    "# extract speaker positions positions\n",
    "speakers = locations.drop('MIC', level=1)\n",
    "speakerlocs = speakers.mean(level=0)\n"
   ]
  },
  {
   "cell_type": "code",
   "execution_count": 69,
   "metadata": {},
   "outputs": [
    {
     "data": {
      "image/png": "[encoded data removed]",
      "text/plain": [
       "<matplotlib.figure.Figure at 0x1157c8eb8>"
      ]
     },
     "metadata": {},
     "output_type": "display_data"
    }
   ],
   "source": [
    "fig, ax = plt.subplots()\n",
    "speakerlocs.plot.scatter(x='easting', y='northing', ax=ax)\n",
    "mics.plot.scatter(x='easting', y='northing', ax=ax, color='C2')\n",
    "\n",
    "for ii in range(8):\n",
    "    t = ax.text(speakerlocs['easting'].iloc[ii], speakerlocs['northing'].iloc[ii]+10, str(ii+1), ha=\"center\", va=\"bottom\", size=15,)\n",
    "    \n",
    "ax.set_xlabel('E-W [m]')\n",
    "ax.set_ylabel('N-S [m]')\n",
    "\n",
    "ax.set_aspect('equal', 'box')\n",
    "\n",
    "ax.legend(['speakers', 'mics'], frameon=False, loc=10)\n",
    "\n",
    "fig.tight_layout()\n",
    "\n",
    "fig.savefig('../figures/inst_locations.png', dpi=200, bbox_inches='tight')"
   ]
  },
  {
   "cell_type": "markdown",
   "metadata": {},
   "source": [
    "### Estimate locations of missing mics\n",
    "for Station 2, estimate mic location as the average distance between speakers and mics, in the direction of Station 3.\n",
    "\n",
    "for Station 4, estimate mic location as the average distance between speakers and mics, in the direction of Station 5."
   ]
  },
  {
   "cell_type": "code",
   "execution_count": 11,
   "metadata": {},
   "outputs": [
    {
     "data": {
      "text/html": [
       "<div>\n",
       "<style scoped>\n",
       "    .dataframe tbody tr th:only-of-type {\n",
       "        vertical-align: middle;\n",
       "    }\n",
       "\n",
       "    .dataframe tbody tr th {\n",
       "        vertical-align: top;\n",
       "    }\n",
       "\n",
       "    .dataframe thead th {\n",
       "        text-align: right;\n",
       "    }\n",
       "</style>\n",
       "<table border=\"1\" class=\"dataframe\">\n",
       "  <thead>\n",
       "    <tr style=\"text-align: right;\">\n",
       "      <th></th>\n",
       "      <th>northing</th>\n",
       "      <th>easting</th>\n",
       "      <th>elevation</th>\n",
       "      <th>dist</th>\n",
       "    </tr>\n",
       "    <tr>\n",
       "      <th>device</th>\n",
       "      <th></th>\n",
       "      <th></th>\n",
       "      <th></th>\n",
       "      <th></th>\n",
       "    </tr>\n",
       "  </thead>\n",
       "  <tbody>\n",
       "    <tr>\n",
       "      <th>Station 1</th>\n",
       "      <td>-1.17175</td>\n",
       "      <td>2.00775</td>\n",
       "      <td>0.03875</td>\n",
       "      <td>2.324986</td>\n",
       "    </tr>\n",
       "    <tr>\n",
       "      <th>Station 2</th>\n",
       "      <td>NaN</td>\n",
       "      <td>NaN</td>\n",
       "      <td>NaN</td>\n",
       "      <td>NaN</td>\n",
       "    </tr>\n",
       "    <tr>\n",
       "      <th>Station 3</th>\n",
       "      <td>-2.30100</td>\n",
       "      <td>-0.42625</td>\n",
       "      <td>-0.19475</td>\n",
       "      <td>2.348237</td>\n",
       "    </tr>\n",
       "    <tr>\n",
       "      <th>Station 4</th>\n",
       "      <td>NaN</td>\n",
       "      <td>NaN</td>\n",
       "      <td>NaN</td>\n",
       "      <td>NaN</td>\n",
       "    </tr>\n",
       "    <tr>\n",
       "      <th>Station 5</th>\n",
       "      <td>0.33600</td>\n",
       "      <td>-2.24775</td>\n",
       "      <td>0.00625</td>\n",
       "      <td>2.272733</td>\n",
       "    </tr>\n",
       "    <tr>\n",
       "      <th>Station 6</th>\n",
       "      <td>1.98675</td>\n",
       "      <td>-1.21825</td>\n",
       "      <td>0.06650</td>\n",
       "      <td>2.331465</td>\n",
       "    </tr>\n",
       "    <tr>\n",
       "      <th>Station 7</th>\n",
       "      <td>2.23300</td>\n",
       "      <td>0.27700</td>\n",
       "      <td>0.06375</td>\n",
       "      <td>2.251018</td>\n",
       "    </tr>\n",
       "    <tr>\n",
       "      <th>Station 8</th>\n",
       "      <td>0.87750</td>\n",
       "      <td>2.15400</td>\n",
       "      <td>0.07025</td>\n",
       "      <td>2.326942</td>\n",
       "    </tr>\n",
       "  </tbody>\n",
       "</table>\n",
       "</div>"
      ],
      "text/plain": [
       "           northing  easting  elevation      dist\n",
       "device                                           \n",
       "Station 1  -1.17175  2.00775    0.03875  2.324986\n",
       "Station 2       NaN      NaN        NaN       NaN\n",
       "Station 3  -2.30100 -0.42625   -0.19475  2.348237\n",
       "Station 4       NaN      NaN        NaN       NaN\n",
       "Station 5   0.33600 -2.24775    0.00625  2.272733\n",
       "Station 6   1.98675 -1.21825    0.06650  2.331465\n",
       "Station 7   2.23300  0.27700    0.06375  2.251018\n",
       "Station 8   0.87750  2.15400    0.07025  2.326942"
      ]
     },
     "execution_count": 11,
     "metadata": {},
     "output_type": "execute_result"
    }
   ],
   "source": [
    "micoffsets = mics - speakerlocs\n",
    "micoffsets['dist'] = np.sqrt(micoffsets['northing']**2 + micoffsets['easting']**2 + micoffsets['elevation']**2)\n",
    "\n",
    "avdist = micoffsets['dist'].mean()\n",
    "avelevation = micoffsets['elevation'].mean()\n",
    "\n",
    "micoffsets"
   ]
  },
  {
   "cell_type": "code",
   "execution_count": 14,
   "metadata": {},
   "outputs": [],
   "source": [
    "dely = speakerlocs['northing'].iloc[2] - speakerlocs['northing'].iloc[1]\n",
    "delx = speakerlocs['easting'].iloc[2] - speakerlocs['easting'].iloc[1]\n",
    "dir23 = np.arctan2(dely, delx)\n",
    "\n",
    "dely = speakerlocs['northing'].iloc[4] - speakerlocs['northing'].iloc[3]\n",
    "delx = speakerlocs['easting'].iloc[4] - speakerlocs['easting'].iloc[3]\n",
    "dir45 = np.arctan2(dely, delx)\n",
    "\n",
    "# temp = micoffsets.copy()\n",
    "micoffsets.loc['Station 2'] = [np.sin(dir23)*avdist, np.cos(dir23)*avdist, avelevation, avdist]\n",
    "micoffsets.loc['Station 4'] = [np.sin(dir45)*avdist, np.cos(dir45)*avdist, avelevation, avdist]"
   ]
  },
  {
   "cell_type": "code",
   "execution_count": 15,
   "metadata": {},
   "outputs": [],
   "source": [
    "mics = speakerlocs + micoffsets\n",
    "mics.drop('dist',axis=1, inplace=True)\n",
    "mics = mics[['northing', 'easting', 'elevation']]\n"
   ]
  },
  {
   "cell_type": "code",
   "execution_count": 16,
   "metadata": {},
   "outputs": [
    {
     "data": {
      "image/png": "[encoded data removed]",
      "text/plain": [
       "<matplotlib.figure.Figure at 0x1098187f0>"
      ]
     },
     "metadata": {},
     "output_type": "display_data"
    }
   ],
   "source": [
    "fig, ax = plt.subplots()\n",
    "speakerlocs.plot.scatter(x='easting', y='northing', ax=ax)\n",
    "mics.plot.scatter(x='easting', y='northing', ax=ax, color='C2')\n",
    "\n",
    "for ii in range(8):\n",
    "    t = ax.text(speakerlocs['easting'].iloc[ii], speakerlocs['northing'].iloc[ii]+10, str(ii+1), ha=\"center\", va=\"bottom\", size=15,)\n",
    "    \n",
    "ax.set_xlabel('E-W [m]')\n",
    "ax.set_ylabel('N-S [m]')\n",
    "\n",
    "ax.set_aspect('equal', 'box')\n",
    "\n",
    "ax.legend(['speakers', 'mics'], frameon=False)\n",
    "\n",
    "fig.tight_layout()\n",
    "fig.savefig('../figures/inst_locations_add_missing.png', dpi=200, bbox_inches='tight')"
   ]
  },
  {
   "cell_type": "markdown",
   "metadata": {},
   "source": [
    "### Save data!"
   ]
  },
  {
   "cell_type": "code",
   "execution_count": 55,
   "metadata": {},
   "outputs": [],
   "source": [
    "mics.to_csv('../calibration_data/mic_locations_20180924.csv')\n",
    "speakerlocs.to_csv('../calibration_data/speaker_locations_20180924.csv')"
   ]
  },
  {
   "cell_type": "markdown",
   "metadata": {},
   "source": [
    "### compare new mic data to old"
   ]
  },
  {
   "cell_type": "code",
   "execution_count": 56,
   "metadata": {},
   "outputs": [],
   "source": [
    "oldmics = np.array([[757342.515     ,  76460.405     ,   6094.11      ],\n",
    "       [757304.32830741,  76556.79205156,   6094.13970833],\n",
    "       [757223.495     ,  76551.17      ,   6093.872     ],\n",
    "       [757095.62776897,  76497.0359615 ,   6094.20970833],\n",
    "       [757081.445     ,  76420.334     ,   6094.116     ],\n",
    "       [757129.534     ,  76299.993     ,   6094.066     ],\n",
    "       [757220.544     ,  76273.092     ,   6094.115     ],\n",
    "       [757349.609     ,  76324.109     ,   6094.266     ]])"
   ]
  },
  {
   "cell_type": "code",
   "execution_count": 65,
   "metadata": {},
   "outputs": [
    {
     "name": "stdout",
     "output_type": "stream",
     "text": [
      "offset between new mic and old locations [m]:\n",
      "[0.    0.81  0.    0.467 0.    0.    0.    0.   ]\n"
     ]
    }
   ],
   "source": [
    "offsetdist = np.array(mics)-oldmics\n",
    "offsetdist = np.sqrt(offsetdist[:,0]**2 +\n",
    "                     offsetdist[:,1]**2 + \n",
    "                     offsetdist[:,2]**2)\n",
    "print('offset between new mic and old locations [m]:') \n",
    "print(offsetdist.round(3)) "
   ]
  },
  {
   "cell_type": "code",
   "execution_count": 71,
   "metadata": {},
   "outputs": [
    {
     "data": {
      "text/plain": [
       "array([[757342.515,  76460.405,   6094.11 ],\n",
       "       [757304.419,  76557.597,   6094.15 ],\n",
       "       [757223.495,  76551.17 ,   6093.872],\n",
       "       [757095.2  ,  76497.122,   6094.042],\n",
       "       [757081.445,  76420.334,   6094.116],\n",
       "       [757129.534,  76299.993,   6094.066],\n",
       "       [757220.544,  76273.092,   6094.115],\n",
       "       [757349.609,  76324.109,   6094.266]])"
      ]
     },
     "execution_count": 71,
     "metadata": {},
     "output_type": "execute_result"
    }
   ],
   "source": [
    "np.array(mics)"
   ]
  },
  {
   "cell_type": "code",
   "execution_count": 73,
   "metadata": {},
   "outputs": [
    {
     "data": {
      "text/plain": [
       "array([[757343.68675,  76458.39725,   6094.07125],\n",
       "       [757306.6325 ,  76556.9445 ,   6094.13125],\n",
       "       [757225.796  ,  76551.59625,   6094.06675],\n",
       "       [757096.06975,  76499.3025 ,   6094.20125],\n",
       "       [757081.109  ,  76422.58175,   6094.10975],\n",
       "       [757127.54725,  76301.21125,   6093.9995 ],\n",
       "       [757218.311  ,  76272.815  ,   6094.05125],\n",
       "       [757348.7315 ,  76321.955  ,   6094.19575]])"
      ]
     },
     "execution_count": 73,
     "metadata": {},
     "output_type": "execute_result"
    }
   ],
   "source": [
    "np.array(speakerlocs)"
   ]
  },
  {
   "cell_type": "code",
   "execution_count": null,
   "metadata": {},
   "outputs": [],
   "source": []
  }
 ],
 "metadata": {
  "kernelspec": {
   "display_name": "Python 3",
   "language": "python",
   "name": "python3"
  },
  "language_info": {
   "codemirror_mode": {
    "name": "ipython",
    "version": 3
   },
   "file_extension": ".py",
   "mimetype": "text/x-python",
   "name": "python",
   "nbconvert_exporter": "python",
   "pygments_lexer": "ipython3",
   "version": "3.6.4"
  }
 },
 "nbformat": 4,
 "nbformat_minor": 2
}
