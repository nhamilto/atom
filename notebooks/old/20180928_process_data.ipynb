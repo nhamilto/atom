{
 "cells": [
  {
   "cell_type": "code",
   "execution_count": 3,
   "metadata": {},
   "outputs": [
    {
     "name": "stdout",
     "output_type": "stream",
     "text": [
      "The autoreload extension is already loaded. To reload it, use:\n",
      "  %reload_ext autoreload\n"
     ]
    }
   ],
   "source": [
    "import pandas as pd\n",
    "import datetime as dt\n",
    "import numpy as np\n",
    "import scipy as sp\n",
    "import os\n",
    "import datetime\n",
    "%load_ext autoreload\n",
    "%autoreload 2\n",
    "\n",
    "# data path, constants, etc.\n",
    "import sys\n",
    "datapath = '/Users/nhamilto/Documents/ATom/coderepo/ATom/'\n",
    "sys.path.append(datapath)\n",
    "\n",
    "# plot things\n",
    "import matplotlib.pyplot as plt\n",
    "plt.style.use('seaborn-deep')\n",
    "\n",
    "# Acoustic tomography functions\n",
    "import atom_functions as atom\n"
   ]
  },
  {
   "cell_type": "code",
   "execution_count": 4,
   "metadata": {},
   "outputs": [],
   "source": [
    "adat = atom.dataset('/Users/nhamilto/Documents/ATom/data/20180913_Data_collection/')\n",
    "today = datetime.datetime.today().strftime('%Y%m%d')\n",
    "savedir = '/Users/nhamilto/Documents/ATom/data/{}_processed_data'.format(today)\n",
    "if not os.path.exists(savedir):\n",
    "    os.makedirs(savedir)"
   ]
  },
  {
   "cell_type": "code",
   "execution_count": null,
   "metadata": {},
   "outputs": [
    {
     "name": "stdout",
     "output_type": "stream",
     "text": [
      "loading file 0: 20180913145734_AcouTomMainData.txt\n",
      "loading file 1: 20180913145532_AcouTomMainData.txt\n"
     ]
    }
   ],
   "source": [
    "for ii in range(2):#len(adat.auxfiles)):\n",
    "    \n",
    "    print('loading file {}: {}'.format(ii, adat.mainfiles[ii]))\n",
    "    adat.load_data_sample(ii)\n",
    "    atomsigs, tt, _ = adat.extract_travel_times(upsamplefactor=10)\n",
    "    \n",
    "    savefile = os.path.join(savedir, adat.save_tt[ii])\n",
    "    tt.to_csv(savefile)\n",
    "    \n",
    "    tfilt = atom.filter_travel_times(tt)\n",
    "    savefile = os.path.join(savedir, adat.save_tt[ii])\n",
    "    tt.to_csv(savefile)"
   ]
  }
 ],
 "metadata": {
  "kernelspec": {
   "display_name": "Python 3",
   "language": "python",
   "name": "python3"
  },
  "language_info": {
   "codemirror_mode": {
    "name": "ipython",
    "version": 3
   },
   "file_extension": ".py",
   "mimetype": "text/x-python",
   "name": "python",
   "nbconvert_exporter": "python",
   "pygments_lexer": "ipython3",
   "version": "3.6.4"
  }
 },
 "nbformat": 4,
 "nbformat_minor": 2
}
