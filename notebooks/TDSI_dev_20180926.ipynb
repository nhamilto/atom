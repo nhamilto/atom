{
 "cells": [
  {
   "cell_type": "code",
   "execution_count": 2,
   "metadata": {},
   "outputs": [
    {
     "name": "stdout",
     "output_type": "stream",
     "text": [
      "The autoreload extension is already loaded. To reload it, use:\n",
      "  %reload_ext autoreload\n"
     ]
    }
   ],
   "source": [
    "import pandas as pd\n",
    "import datetime as dt\n",
    "import numpy as np\n",
    "import scipy as sp\n",
    "import os\n",
    "%load_ext autoreload\n",
    "%autoreload 2\n",
    "\n",
    "# data path, constants, etc.\n",
    "import sys\n",
    "datapath = '/Users/nhamilto/Documents/ATom/coderepo/ATom/'\n",
    "sys.path.append(datapath)\n",
    "\n",
    "# plot things\n",
    "import matplotlib.pyplot as plt\n",
    "plt.style.use('seaborn-deep')\n",
    "\n",
    "# Acoustic tomography functions\n",
    "import atom_functions as atom\n",
    "# import TDSI as TDSI"
   ]
  },
  {
   "cell_type": "code",
   "execution_count": 3,
   "metadata": {},
   "outputs": [],
   "source": [
    "datapath = '../../data/20180928_processed_data/'\n",
    "ttfiles = [datapath+file for file in os.listdir(datapath) if 'filtered_tt' in file]"
   ]
  },
  {
   "cell_type": "code",
   "execution_count": 4,
   "metadata": {},
   "outputs": [
    {
     "ename": "NameError",
     "evalue": "name 'TDSI' is not defined",
     "output_type": "error",
     "traceback": [
      "\u001b[0;31m---------------------------------------------------------------------------\u001b[0m",
      "\u001b[0;31mNameError\u001b[0m                                 Traceback (most recent call last)",
      "\u001b[0;32m<ipython-input-4-e94574d2e797>\u001b[0m in \u001b[0;36m<module>\u001b[0;34m()\u001b[0m\n\u001b[0;32m----> 1\u001b[0;31m \u001b[0mtmp\u001b[0m \u001b[0;34m=\u001b[0m \u001b[0mTDSI\u001b[0m\u001b[0;34m.\u001b[0m\u001b[0mmeanField\u001b[0m\u001b[0;34m(\u001b[0m\u001b[0mttfiles\u001b[0m\u001b[0;34m[\u001b[0m\u001b[0;36m0\u001b[0m\u001b[0;34m]\u001b[0m\u001b[0;34m)\u001b[0m\u001b[0;34m\u001b[0m\u001b[0m\n\u001b[0m",
      "\u001b[0;31mNameError\u001b[0m: name 'TDSI' is not defined"
     ]
    }
   ],
   "source": [
    "tmp = TDSI.meanField(ttfiles[0])"
   ]
  },
  {
   "cell_type": "code",
   "execution_count": 5,
   "metadata": {},
   "outputs": [
    {
     "ename": "NameError",
     "evalue": "name 'tmp' is not defined",
     "output_type": "error",
     "traceback": [
      "\u001b[0;31m---------------------------------------------------------------------------\u001b[0m",
      "\u001b[0;31mNameError\u001b[0m                                 Traceback (most recent call last)",
      "\u001b[0;32m<ipython-input-5-1a6da0b05784>\u001b[0m in \u001b[0;36m<module>\u001b[0;34m()\u001b[0m\n\u001b[1;32m      1\u001b[0m \u001b[0mpathID\u001b[0m \u001b[0;34m=\u001b[0m \u001b[0mnp\u001b[0m\u001b[0;34m.\u001b[0m\u001b[0mrandom\u001b[0m\u001b[0;34m.\u001b[0m\u001b[0mrandint\u001b[0m\u001b[0;34m(\u001b[0m\u001b[0;36m64\u001b[0m\u001b[0;34m)\u001b[0m\u001b[0;34m\u001b[0m\u001b[0m\n\u001b[0;32m----> 2\u001b[0;31m \u001b[0mtt_path\u001b[0m \u001b[0;34m=\u001b[0m \u001b[0mtmp\u001b[0m\u001b[0;34m.\u001b[0m\u001b[0mtravel_times\u001b[0m\u001b[0;34m.\u001b[0m\u001b[0mxs\u001b[0m\u001b[0;34m(\u001b[0m\u001b[0mpathID\u001b[0m\u001b[0;34m,\u001b[0m \u001b[0mlevel\u001b[0m\u001b[0;34m=\u001b[0m\u001b[0;36m2\u001b[0m\u001b[0;34m)\u001b[0m\u001b[0;34m.\u001b[0m\u001b[0mT\u001b[0m\u001b[0;34m\u001b[0m\u001b[0m\n\u001b[0m\u001b[1;32m      3\u001b[0m \u001b[0mtt_path\u001b[0m\u001b[0;34m.\u001b[0m\u001b[0mplot\u001b[0m\u001b[0;34m(\u001b[0m\u001b[0;34m)\u001b[0m\u001b[0;34m\u001b[0m\u001b[0m\n",
      "\u001b[0;31mNameError\u001b[0m: name 'tmp' is not defined"
     ]
    }
   ],
   "source": [
    "pathID = np.random.randint(64)\n",
    "tt_path = tmp.travel_times.xs(pathID, level=2).T\n",
    "tt_path.plot()"
   ]
  },
  {
   "cell_type": "code",
   "execution_count": null,
   "metadata": {},
   "outputs": [],
   "source": [
    "tmp.path_lengths.round(2)#.flatten()"
   ]
  },
  {
   "cell_type": "code",
   "execution_count": null,
   "metadata": {},
   "outputs": [],
   "source": [
    "path_velocity = pd.DataFrame()\n",
    "for col in tmp.travel_times.columns:\n",
    "    path_velocity[col] =tmp.path_lengths.flatten()/(tmp.travel_times[col]/1000)"
   ]
  },
  {
   "cell_type": "code",
   "execution_count": null,
   "metadata": {},
   "outputs": [],
   "source": [
    "path_velocity.T.mean().plot()"
   ]
  },
  {
   "cell_type": "code",
   "execution_count": 177,
   "metadata": {},
   "outputs": [
    {
     "data": {
      "text/plain": [
       "array([[  3.63,  89.6 , 128.99, 224.54, 232.62, 236.92, 199.04, 123.52],\n",
       "       [ 95.2 ,   2.84,  69.71, 196.06, 231.14, 276.42, 267.76, 213.07],\n",
       "       [135.26,  73.6 ,   2.88, 128.04, 169.95, 238.54, 248.1 , 232.72],\n",
       "       [220.82, 192.1 , 124.6 ,   9.49,  67.88, 176.54, 227.96, 272.96],\n",
       "       [232.61, 229.41, 168.93,  82.5 ,   2.8 , 108.28, 178.5 , 250.99],\n",
       "       [232.46, 270.63, 233.34, 180.76, 115.38,   2.86,  82.38, 192.86],\n",
       "       [193.68, 257.26, 241.57, 229.2 , 178.27,  85.92,   2.82, 119.81],\n",
       "       [117.22, 204.65, 224.97, 274.08, 248.98, 195.71, 107.66,   3.66]])"
      ]
     },
     "execution_count": 177,
     "metadata": {},
     "output_type": "execute_result"
    }
   ],
   "source": [
    "tmp.travel_times['frame 0'].values.reshape(8,8).round(2)"
   ]
  },
  {
   "cell_type": "code",
   "execution_count": 57,
   "metadata": {},
   "outputs": [
    {
     "data": {
      "text/plain": [
       "(64, 120)"
      ]
     },
     "execution_count": 57,
     "metadata": {},
     "output_type": "execute_result"
    }
   ],
   "source": [
    "path_velocity.shape"
   ]
  },
  {
   "cell_type": "code",
   "execution_count": 78,
   "metadata": {},
   "outputs": [],
   "source": [
    "pathx = np.abs(np.repeat(tmp.mic_xy_m[:,0][:,np.newaxis],8,axis=1) - np.repeat(tmp.speaker_xy_m[:,0][:,np.newaxis],8,axis=1).T)\n",
    "pathy = np.abs(np.repeat(tmp.mic_xy_m[:,1][:,np.newaxis],8,axis=1) - np.repeat(tmp.speaker_xy_m[:,1][:,np.newaxis],8,axis=1).T)"
   ]
  },
  {
   "cell_type": "code",
   "execution_count": 138,
   "metadata": {},
   "outputs": [],
   "source": [
    "G = np.ones((56,3))\n",
    "\n",
    "G[:,1] = pathx[~np.eye(pathx.shape[0],dtype=bool)].reshape(pathx.shape[0],-1).flatten()\n",
    "G[:,2] = pathy[~np.eye(pathy.shape[0],dtype=bool)].reshape(pathy.shape[0],-1).flatten()\n",
    "\n",
    "Ginv = np.linalg.pinv(G)"
   ]
  },
  {
   "cell_type": "code",
   "execution_count": 231,
   "metadata": {},
   "outputs": [],
   "source": [
    "# pick a frame to look at\n",
    "frameID=0\n",
    "pv = path_velocity['frame 0']\n",
    "pv[::9] = np.NaN\n",
    "# D = 1/C\n",
    "D = 1/pv.dropna()\n",
    "# aver = average values of [1/c0, vx/c0**2, vy/c0**2]\n",
    "aver = np.matmul(Ginv,D)\n",
    "# Di is the least-squares estiamte of D\n",
    "Di = np.matmul(G,aver)\n",
    "# Residual and rmse\n",
    "residual = D-Di\n",
    "rmse = np.linalg.norm(residual)/(tmp.npaths-3)\n"
   ]
  },
  {
   "cell_type": "code",
   "execution_count": 242,
   "metadata": {},
   "outputs": [
    {
     "data": {
      "text/plain": [
       "(3, 56)"
      ]
     },
     "execution_count": 242,
     "metadata": {},
     "output_type": "execute_result"
    }
   ],
   "source": [
    "Ginv.shape"
   ]
  },
  {
   "cell_type": "code",
   "execution_count": 240,
   "metadata": {},
   "outputs": [
    {
     "data": {
      "text/plain": [
       "speaker  mic  pathID\n",
       "S1       M0   1         0.002854\n",
       "S2       M0   2         0.002857\n",
       "S3       M0   3         0.002953\n",
       "S4       M0   4         0.002889\n",
       "S5       M0   5         0.002906\n",
       "S6       M0   6         0.002903\n",
       "S7       M0   7         0.002924\n",
       "S0       M1   8         0.002928\n",
       "S2       M1   10        0.002900\n",
       "S3       M1   11        0.002973\n",
       "S4       M1   12        0.002906\n",
       "S5       M1   13        0.002912\n",
       "S6       M1   14        0.002953\n",
       "S7       M1   15        0.002915\n",
       "S0       M2   16        0.002923\n",
       "S1       M2   17        0.002897\n",
       "S3       M2   19        0.003054\n",
       "S4       M2   20        0.002906\n",
       "S5       M2   21        0.002923\n",
       "S6       M2   22        0.002924\n",
       "S7       M2   23        0.002923\n",
       "S0       M3   24        0.002881\n",
       "S1       M3   25        0.002868\n",
       "S2       M3   26        0.002889\n",
       "S4       M3   28        0.002935\n",
       "S5       M3   29        0.002917\n",
       "S6       M3   30        0.002923\n",
       "S7       M3   31        0.002906\n",
       "S0       M4   32        0.002880\n",
       "S1       M4   33        0.002858\n",
       "S2       M4   34        0.002841\n",
       "S3       M4   35        0.003370\n",
       "S5       M4   37        0.002781\n",
       "S6       M4   38        0.002910\n",
       "S7       M4   39        0.002891\n",
       "S0       M5   40        0.002863\n",
       "S1       M5   41        0.002845\n",
       "S2       M5   42        0.002842\n",
       "S3       M5   43        0.002934\n",
       "S4       M5   44        0.002872\n",
       "S6       M5   46        0.002911\n",
       "S7       M5   47        0.002872\n",
       "S0       M6   48        0.002856\n",
       "S1       M6   49        0.002845\n",
       "S2       M6   50        0.002845\n",
       "S3       M6   51        0.002912\n",
       "S4       M6   52        0.002861\n",
       "S5       M6   53        0.002901\n",
       "S7       M6   55        0.002865\n",
       "S0       M7   56        0.002861\n",
       "S1       M7   57        0.002836\n",
       "S2       M7   58        0.002850\n",
       "S3       M7   59        0.002918\n",
       "S4       M7   60        0.002856\n",
       "S5       M7   61        0.002876\n",
       "S6       M7   62        0.002506\n",
       "Name: frame 0, dtype: float64"
      ]
     },
     "execution_count": 240,
     "metadata": {},
     "output_type": "execute_result"
    }
   ],
   "source": [
    "D\n"
   ]
  },
  {
   "cell_type": "code",
   "execution_count": 234,
   "metadata": {},
   "outputs": [
    {
     "data": {
      "text/plain": [
       "<matplotlib.axes._subplots.AxesSubplot at 0x11fe7af98>"
      ]
     },
     "execution_count": 234,
     "metadata": {},
     "output_type": "execute_result"
    },
    {
     "data": {
      "image/png": "[encoded data removed]",
      "text/plain": [
       "<matplotlib.figure.Figure at 0x11f718518>"
      ]
     },
     "metadata": {},
     "output_type": "display_data"
    }
   ],
   "source": [
    "D.plot()"
   ]
  },
  {
   "cell_type": "code",
   "execution_count": 236,
   "metadata": {},
   "outputs": [
    {
     "data": {
      "text/plain": [
       "<matplotlib.axes._subplots.AxesSubplot at 0x11ffe9b38>"
      ]
     },
     "execution_count": 236,
     "metadata": {},
     "output_type": "execute_result"
    },
    {
     "data": {
      "image/png": "[encoded data removed]",
      "text/plain": [
       "<matplotlib.figure.Figure at 0x11fba7f28>"
      ]
     },
     "metadata": {},
     "output_type": "display_data"
    }
   ],
   "source": [
    "pv.dropna().plot()"
   ]
  },
  {
   "cell_type": "code",
   "execution_count": 141,
   "metadata": {},
   "outputs": [],
   "source": [
    "# estimated speed of sound during frame\n",
    "c0est = 1/aver[0]\n",
    "\n",
    "# error of each term in Aver\n",
    "std_aver = np.sqrt(rmse*np.diag(np.matmul(Ginv,Ginv.T)))\n",
    "\n",
    "err_c0 = std_aver[0]*c0est**2\n",
    "err_c2 = 2*c0est*err_c0"
   ]
  },
  {
   "cell_type": "code",
   "execution_count": 147,
   "metadata": {},
   "outputs": [
    {
     "data": {
      "text/plain": [
       "0.4425680576019211"
      ]
     },
     "execution_count": 147,
     "metadata": {},
     "output_type": "execute_result"
    }
   ],
   "source": [
    "std_aver[0]*c0est"
   ]
  },
  {
   "cell_type": "code",
   "execution_count": 148,
   "metadata": {},
   "outputs": [],
   "source": [
    "# gamma = Cp/Ct ratio of specific heats of air\n",
    "gamma = 1.4\n",
    "# Gas constant for air\n",
    "Ra = 287.058\n",
    "gR = gamma*Ra"
   ]
  },
  {
   "cell_type": "code",
   "execution_count": 153,
   "metadata": {},
   "outputs": [],
   "source": [
    "# estimate of mean temperature from data\n",
    "T0est = c0est**2/gR\n",
    "# error estiamte of T\n",
    "err_T = err_c2/gR"
   ]
  },
  {
   "cell_type": "code",
   "execution_count": 160,
   "metadata": {},
   "outputs": [],
   "source": [
    "# mean field estimates of vx and vy\n",
    "vx0est = aver[1]*c0est**2\n",
    "vy0est = aver[2]*c0est**2\n",
    "\n",
    "# error of mean field estimates of vx and vy\n",
    "err_vx = c0est**2*std_aver[1]\n",
    "err_vy = c0est**2*std_aver[2]"
   ]
  },
  {
   "cell_type": "code",
   "execution_count": 221,
   "metadata": {},
   "outputs": [
    {
     "data": {
      "text/plain": [
       "341.4509934910594"
      ]
     },
     "execution_count": 221,
     "metadata": {},
     "output_type": "execute_result"
    }
   ],
   "source": [
    "c0est"
   ]
  },
  {
   "cell_type": "code",
   "execution_count": 220,
   "metadata": {},
   "outputs": [
    {
     "data": {
      "text/plain": [
       "-0.06610654271364218"
      ]
     },
     "execution_count": 220,
     "metadata": {},
     "output_type": "execute_result"
    }
   ],
   "source": [
    "vx0est"
   ]
  },
  {
   "cell_type": "code",
   "execution_count": 224,
   "metadata": {},
   "outputs": [
    {
     "data": {
      "text/plain": [
       "16.957576457996822"
      ]
     },
     "execution_count": 224,
     "metadata": {},
     "output_type": "execute_result"
    }
   ],
   "source": [
    "T0est-273.15"
   ]
  },
  {
   "cell_type": "code",
   "execution_count": 169,
   "metadata": {},
   "outputs": [],
   "source": [
    "pathlengths = np.sqrt(pathx**2 + pathy**2)\n",
    "pathlengths = pathlengths[~np.eye(pathlengths.shape[0],dtype=bool)].reshape(pathlengths.shape[0],-1).flatten()\n",
    "tt_meanfield = pathlengths*(residual + Di)"
   ]
  },
  {
   "cell_type": "code",
   "execution_count": 228,
   "metadata": {},
   "outputs": [
    {
     "data": {
      "text/plain": [
       "Text(0,0.5,'travel time flucfield')"
      ]
     },
     "execution_count": 228,
     "metadata": {},
     "output_type": "execute_result"
    },
    {
     "data": {
      "image/png": "[encoded data removed]",
      "text/plain": [
       "<matplotlib.figure.Figure at 0x120081668>"
      ]
     },
     "metadata": {},
     "output_type": "display_data"
    }
   ],
   "source": [
    "fig, ax = plt.subplots()\n",
    "tt_meanfield.plot(ax=ax)\n",
    "ax.set_ylabel('travel time meanfield')\n",
    "axtwin = ax.twinx()\n",
    "mask = np.abs(1-np.eye(8).flatten()).astype(bool)\n",
    "\n",
    "test = tt_flucfield.where(mask).dropna()\n",
    "test.plot(ax=axtwin, color='C1')\n",
    "axtwin.set_ylabel('travel time flucfield')\n",
    "\n",
    "# ax.set_xticks(tt_meanfield.index.get_level_values(2))\n",
    "# ax.set_xticklabels(tt_meanfield.index.get_level_values(2))"
   ]
  },
  {
   "cell_type": "code",
   "execution_count": null,
   "metadata": {},
   "outputs": [],
   "source": []
  }
 ],
 "metadata": {
  "kernelspec": {
   "display_name": "Python 3",
   "language": "python",
   "name": "python3"
  },
  "language_info": {
   "codemirror_mode": {
    "name": "ipython",
    "version": 3
   },
   "file_extension": ".py",
   "mimetype": "text/x-python",
   "name": "python",
   "nbconvert_exporter": "python",
   "pygments_lexer": "ipython3",
   "version": "3.6.4"
  }
 },
 "nbformat": 4,
 "nbformat_minor": 2
}
